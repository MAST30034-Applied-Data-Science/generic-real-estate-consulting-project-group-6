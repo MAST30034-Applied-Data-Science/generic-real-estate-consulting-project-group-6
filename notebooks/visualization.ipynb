{
 "cells": [
  {
   "cell_type": "markdown",
   "metadata": {},
   "source": [
    "# Visualization\n",
    "1. Property positions\n",
    "2. CBD, School and Train Station Proximity\n",
    "2. (Line Plot) Historical Income Data\n",
    "3. (Scatter Plot) Population and property count in SA2"
   ]
  },
  {
   "cell_type": "code",
   "execution_count": 2,
   "metadata": {},
   "outputs": [
    {
     "name": "stderr",
     "output_type": "stream",
     "text": [
      "/opt/anaconda3/envs/ads/lib/python3.8/site-packages/geopandas/_compat.py:112: UserWarning: The Shapely GEOS version (3.10.3-CAPI-1.16.1) is incompatible with the GEOS version PyGEOS was compiled with (3.10.1-CAPI-1.16.0). Conversions between both will be slow.\n",
      "  warnings.warn(\n"
     ]
    }
   ],
   "source": [
    "import pandas as pd\n",
    "import seaborn as sns\n",
    "import geopandas as gdp\n",
    "import matplotlib.pyplot as plt\n",
    "import numpy as np\n",
    "from scipy import stats\n",
    "import folium"
   ]
  },
  {
   "cell_type": "markdown",
   "metadata": {},
   "source": [
    "----------\n",
    "### Property Positions"
   ]
  },
  {
   "cell_type": "code",
   "execution_count": 3,
   "metadata": {},
   "outputs": [],
   "source": [
    "# Load data\n",
    "property_raw = pd.read_json('../data/raw/property_raw.json')\n",
    "property_raw = property_raw.transpose()\n",
    "property_raw = property_raw.reset_index(drop=True)"
   ]
  },
  {
   "cell_type": "code",
   "execution_count": 4,
   "metadata": {},
   "outputs": [
    {
     "data": {
      "text/html": [
       "<div>\n",
       "<style scoped>\n",
       "    .dataframe tbody tr th:only-of-type {\n",
       "        vertical-align: middle;\n",
       "    }\n",
       "\n",
       "    .dataframe tbody tr th {\n",
       "        vertical-align: top;\n",
       "    }\n",
       "\n",
       "    .dataframe thead th {\n",
       "        text-align: right;\n",
       "    }\n",
       "</style>\n",
       "<table border=\"1\" class=\"dataframe\">\n",
       "  <thead>\n",
       "    <tr style=\"text-align: right;\">\n",
       "      <th></th>\n",
       "      <th>name</th>\n",
       "      <th>cost_text</th>\n",
       "      <th>coordinates</th>\n",
       "      <th>rooms</th>\n",
       "      <th>type</th>\n",
       "    </tr>\n",
       "  </thead>\n",
       "  <tbody>\n",
       "    <tr>\n",
       "      <th>0</th>\n",
       "      <td>1901/368 St Kilda Road Melbourne VIC 3000</td>\n",
       "      <td>$1800 Per Week</td>\n",
       "      <td>[-37.8318086, 144.9710272]</td>\n",
       "      <td>[3 Beds, 2 Baths, 2 Parking]</td>\n",
       "      <td>Apartment / Unit / Flat</td>\n",
       "    </tr>\n",
       "    <tr>\n",
       "      <th>1</th>\n",
       "      <td>1211/200 Spencer Street Melbourne VIC 3000</td>\n",
       "      <td>$480 per week</td>\n",
       "      <td>[-37.816228, 144.9532465]</td>\n",
       "      <td>[1 Bed, 1 Bath, 1 Parking]</td>\n",
       "      <td>Apartment / Unit / Flat</td>\n",
       "    </tr>\n",
       "    <tr>\n",
       "      <th>2</th>\n",
       "      <td>1008/380 Little Lonsdale Street Melbourne VIC ...</td>\n",
       "      <td>$400 pw</td>\n",
       "      <td>[-37.8121026, 144.9581291]</td>\n",
       "      <td>[1 Bed, 1 Bath]</td>\n",
       "      <td>Apartment / Unit / Flat</td>\n",
       "    </tr>\n",
       "    <tr>\n",
       "      <th>3</th>\n",
       "      <td>3/27 Flinders Lane Melbourne VIC 3000</td>\n",
       "      <td>$420 per week</td>\n",
       "      <td>[-37.8147317, 144.9733655]</td>\n",
       "      <td>[1 Bed, 1 Bath]</td>\n",
       "      <td>Apartment / Unit / Flat</td>\n",
       "    </tr>\n",
       "    <tr>\n",
       "      <th>4</th>\n",
       "      <td>611/408 Lonsdale Street Melbourne VIC 3000</td>\n",
       "      <td>$350</td>\n",
       "      <td>[-37.8125979, 144.9604012]</td>\n",
       "      <td>[1 Bed, 1 Bath]</td>\n",
       "      <td>Apartment / Unit / Flat</td>\n",
       "    </tr>\n",
       "    <tr>\n",
       "      <th>...</th>\n",
       "      <td>...</td>\n",
       "      <td>...</td>\n",
       "      <td>...</td>\n",
       "      <td>...</td>\n",
       "      <td>...</td>\n",
       "    </tr>\n",
       "    <tr>\n",
       "      <th>15342</th>\n",
       "      <td>28 Beachcomber Drive Inverloch VIC 3996</td>\n",
       "      <td>$550 wk</td>\n",
       "      <td>[-38.6412502, 145.7031282]</td>\n",
       "      <td>[4 Beds, 2 Baths]</td>\n",
       "      <td>House</td>\n",
       "    </tr>\n",
       "    <tr>\n",
       "      <th>15343</th>\n",
       "      <td>14 Inverloch Parade Inverloch VIC 3996</td>\n",
       "      <td>$420 wk</td>\n",
       "      <td>[-38.6287143, 145.7358082]</td>\n",
       "      <td>[2 Beds, 1 Bath]</td>\n",
       "      <td>House</td>\n",
       "    </tr>\n",
       "    <tr>\n",
       "      <th>15344</th>\n",
       "      <td>10 Hopetoun Street Inverloch VIC 3996</td>\n",
       "      <td>$370 wk</td>\n",
       "      <td>[-38.6341243, 145.7306862]</td>\n",
       "      <td>[2 Beds, 1 Bath, 1 Parking]</td>\n",
       "      <td>House</td>\n",
       "    </tr>\n",
       "    <tr>\n",
       "      <th>15345</th>\n",
       "      <td>Inverloch VIC 3996</td>\n",
       "      <td>$475 wk</td>\n",
       "      <td>[-38.6314613, 145.7293638]</td>\n",
       "      <td>[3 Beds, 2 Baths, 1 Parking]</td>\n",
       "      <td>House</td>\n",
       "    </tr>\n",
       "    <tr>\n",
       "      <th>15346</th>\n",
       "      <td>64 Dixon Street Inverloch VIC 3996</td>\n",
       "      <td>Contact Agent</td>\n",
       "      <td>[-38.6313719, 145.717275]</td>\n",
       "      <td>[1 Bed, 1 Bath]</td>\n",
       "      <td>House</td>\n",
       "    </tr>\n",
       "  </tbody>\n",
       "</table>\n",
       "<p>15347 rows × 5 columns</p>\n",
       "</div>"
      ],
      "text/plain": [
       "                                                    name       cost_text  \\\n",
       "0              1901/368 St Kilda Road Melbourne VIC 3000  $1800 Per Week   \n",
       "1             1211/200 Spencer Street Melbourne VIC 3000   $480 per week   \n",
       "2      1008/380 Little Lonsdale Street Melbourne VIC ...         $400 pw   \n",
       "3                  3/27 Flinders Lane Melbourne VIC 3000   $420 per week   \n",
       "4             611/408 Lonsdale Street Melbourne VIC 3000            $350   \n",
       "...                                                  ...             ...   \n",
       "15342            28 Beachcomber Drive Inverloch VIC 3996         $550 wk   \n",
       "15343             14 Inverloch Parade Inverloch VIC 3996         $420 wk   \n",
       "15344              10 Hopetoun Street Inverloch VIC 3996         $370 wk   \n",
       "15345                                 Inverloch VIC 3996         $475 wk   \n",
       "15346                 64 Dixon Street Inverloch VIC 3996   Contact Agent   \n",
       "\n",
       "                      coordinates                         rooms  \\\n",
       "0      [-37.8318086, 144.9710272]  [3 Beds, 2 Baths, 2 Parking]   \n",
       "1       [-37.816228, 144.9532465]    [1 Bed, 1 Bath, 1 Parking]   \n",
       "2      [-37.8121026, 144.9581291]               [1 Bed, 1 Bath]   \n",
       "3      [-37.8147317, 144.9733655]               [1 Bed, 1 Bath]   \n",
       "4      [-37.8125979, 144.9604012]               [1 Bed, 1 Bath]   \n",
       "...                           ...                           ...   \n",
       "15342  [-38.6412502, 145.7031282]             [4 Beds, 2 Baths]   \n",
       "15343  [-38.6287143, 145.7358082]              [2 Beds, 1 Bath]   \n",
       "15344  [-38.6341243, 145.7306862]   [2 Beds, 1 Bath, 1 Parking]   \n",
       "15345  [-38.6314613, 145.7293638]  [3 Beds, 2 Baths, 1 Parking]   \n",
       "15346   [-38.6313719, 145.717275]               [1 Bed, 1 Bath]   \n",
       "\n",
       "                          type  \n",
       "0      Apartment / Unit / Flat  \n",
       "1      Apartment / Unit / Flat  \n",
       "2      Apartment / Unit / Flat  \n",
       "3      Apartment / Unit / Flat  \n",
       "4      Apartment / Unit / Flat  \n",
       "...                        ...  \n",
       "15342                    House  \n",
       "15343                    House  \n",
       "15344                    House  \n",
       "15345                    House  \n",
       "15346                    House  \n",
       "\n",
       "[15347 rows x 5 columns]"
      ]
     },
     "execution_count": 4,
     "metadata": {},
     "output_type": "execute_result"
    }
   ],
   "source": [
    "property_raw"
   ]
  },
  {
   "cell_type": "code",
   "execution_count": null,
   "metadata": {},
   "outputs": [],
   "source": [
    "property_raw_sample = property_raw.sample(n = 200, random_state=30034)\n",
    "\n",
    "property_map = folium.Map(location=[-37, 145], tiles=\"Stamen Terrain\", zoom_start=8)\n",
    "\n",
    "def plotPropertyDot(point):\n",
    "    '''input: series that contains a numeric named latitude and a numeric named longitude\n",
    "    this function creates a CircleMarker and adds it to your this_map'''\n",
    "    folium.CircleMarker(location=[point.coordinates[0], point.coordinates[1]],\n",
    "                        radius=5,\n",
    "                        weight=1,#remove outline\n",
    "                        popup = point.type,\n",
    "                        fill_color='red').add_to(property_map)\n",
    "\n",
    "property_raw_sample.apply(plotPropertyDot, axis=1)\n",
    "property_map.save(\"../plots/property_location_map.html\")\n",
    "property_map"
   ]
  },
  {
   "cell_type": "markdown",
   "metadata": {},
   "source": [
    "---------\n",
    "### CBD, School and Train Station Proximity\n",
    "1. CBD Proximity"
   ]
  },
  {
   "cell_type": "code",
   "execution_count": 15,
   "metadata": {},
   "outputs": [
    {
     "data": {
      "image/png": "[encoded data removed]",
      "text/plain": [
       "<Figure size 432x432 with 1 Axes>"
      ]
     },
     "metadata": {
      "needs_background": "light"
     },
     "output_type": "display_data"
    }
   ],
   "source": [
    "proximity_CBD = pd.read_csv(\"../data/raw/distance_to_CBD.csv\", index_col=[0])\n",
    "ax_CBD = proximity_CBD.plot.hist(bins=150, \n",
    "                                 column='CBD_distance', \n",
    "                                 figsize=(6,6), \n",
    "                                 title='Property CBD Proximity(m) Histogram',\n",
    "                                 xlabel = 'Route Distance (m)',\n",
    "                                 ylabel = 'Frequency')\n",
    "plt.savefig(\"../plots/CBD_proximity_hist.jpeg\")"
   ]
  },
  {
   "cell_type": "markdown",
   "metadata": {},
   "source": [
    "2. School Proximity"
   ]
  },
  {
   "cell_type": "code",
   "execution_count": 18,
   "metadata": {},
   "outputs": [
    {
     "data": {
      "image/png": "[encoded data removed]",
      "text/plain": [
       "<Figure size 432x432 with 1 Axes>"
      ]
     },
     "metadata": {
      "needs_background": "light"
     },
     "output_type": "display_data"
    }
   ],
   "source": [
    "proximity_school = pd.read_csv(\"../data/raw/properties_shcool_proximity.csv\", index_col=[0])\n",
    "ax_school = proximity_school.plot.hist(bins=150, \n",
    "                                      column='proximity to school', \n",
    "                                      figsize=(6,6), \n",
    "                                      title='Property School Proximity(m) Histogram',\n",
    "                                      xlabel = 'Route Distance (m)',\n",
    "                                      ylabel = 'Frequency')\n",
    "plt.savefig(\"../plots/school_proximity_hist.jpeg\")"
   ]
  },
  {
   "cell_type": "markdown",
   "metadata": {},
   "source": [
    "2. Train Station Proximity"
   ]
  },
  {
   "cell_type": "code",
   "execution_count": 19,
   "metadata": {},
   "outputs": [
    {
     "data": {
      "image/png": "[encoded data removed]",
      "text/plain": [
       "<Figure size 432x432 with 1 Axes>"
      ]
     },
     "metadata": {
      "needs_background": "light"
     },
     "output_type": "display_data"
    }
   ],
   "source": [
    "proximity_train= pd.read_csv(\"../data/raw/properties_train_proximity.csv\", index_col=[0])\n",
    "ax_train = proximity_train.plot.hist(bins=150, \n",
    "                                      column='proximity to train station', \n",
    "                                      figsize=(6,6), \n",
    "                                      title='Property Train Station Proximity(m) Histogram',\n",
    "                                      xlabel = 'Route Distance (m)',\n",
    "                                      ylabel = 'Frequency')\n",
    "plt.savefig(\"../plots/train_proximity_hist.jpeg\")"
   ]
  },
  {
   "cell_type": "markdown",
   "metadata": {},
   "source": [
    "--------------\n",
    "### Historical Income Data"
   ]
  },
  {
   "cell_type": "code",
   "execution_count": null,
   "metadata": {},
   "outputs": [],
   "source": [
    "income_df = pd.read_csv('../data/raw/income_for_suburb.csv')\n",
    "income_df = income_df.drop(columns='Unnamed: 0')\n",
    "income_df.head()"
   ]
  },
  {
   "cell_type": "code",
   "execution_count": null,
   "metadata": {},
   "outputs": [],
   "source": [
    "income_df_sample = income_df.sample(n=10, random_state=150)\n",
    "income_df_sample = income_df_sample.set_index(keys='LOC_NAME', drop=True).transpose()\n",
    "ax1 = income_df_sample.iloc[:8,:].plot(kind= 'line', title='A Sample Suburb Income', figsize=(20, 10)).legend(loc='upper left')\n",
    "ax2 = income_df_sample.plot(kind= 'line', title='A Sample Suburb Prediction', figsize=(20, 10)).legend(loc='upper left')\n",
    "ax1.set_title('Sample Suburbs')\n",
    "ax2.set_title('Sample Suburbs')\n",
    "ax1.get_figure().savefig(\"../plots/income_sample_1.jpeg\")\n",
    "ax2.get_figure().savefig(\"../plots/income_sample_2.jpeg\")"
   ]
  },
  {
   "cell_type": "markdown",
   "metadata": {},
   "source": [
    "------------\n",
    "### Population and Preperty Count"
   ]
  },
  {
   "cell_type": "code",
   "execution_count": null,
   "metadata": {},
   "outputs": [],
   "source": [
    "property1 = pd.read_csv(\"../data/raw/properties_preporcessed_1.csv\", index_col=[0])[['name', 'SA2_MAIN16']]\n",
    "population_sa2 = pd.read_csv(\"../data/raw/external_data/population.csv\", index_col=[0])\n",
    "population_sa2 = population_sa2[['SA2 code', 'SA2 name', 'ERP 2021','density 2021 persons/km2']]\n",
    "property_agg = property1.groupby('SA2_MAIN16', as_index=False).count().rename(columns={'SA2_MAIN16' : 'SA2 code', 'name' : 'property_count'})"
   ]
  },
  {
   "cell_type": "code",
   "execution_count": null,
   "metadata": {},
   "outputs": [],
   "source": [
    "pop_count = pd.merge(property_agg, population_sa2, on='SA2 code', how='left')\n",
    "pop_count = pop_count[(np.abs(stats.zscore(pop_count['property_count'])) <2.5)]\n",
    "pop_count = pop_count[(np.abs(stats.zscore(pop_count['ERP 2021'])) < 5)]"
   ]
  },
  {
   "cell_type": "code",
   "execution_count": null,
   "metadata": {},
   "outputs": [],
   "source": [
    "ax3 = pop_count.plot(kind='scatter', title='Property Count and Population (SA2)', y='ERP 2021', x='property_count')\n",
    "ax3.add_line(line=plt.Line2D(xdata=[0, 140], ydata=[7500, 30000], color='red'))\n",
    "ax3.get_figure().savefig(\"../plots/population_property_scatter.jpeg\")"
   ]
  },
  {
   "cell_type": "code",
   "execution_count": null,
   "metadata": {},
   "outputs": [],
   "source": [
    "pop_count[['property_count', 'ERP 2021']].corr()"
   ]
  },
  {
   "cell_type": "code",
   "execution_count": null,
   "metadata": {},
   "outputs": [],
   "source": []
  }
 ],
 "metadata": {
  "kernelspec": {
   "display_name": "Python 3.8.3",
   "language": "python",
   "name": "python3"
  },
  "language_info": {
   "codemirror_mode": {
    "name": "ipython",
    "version": 3
   },
   "file_extension": ".py",
   "mimetype": "text/x-python",
   "name": "python",
   "nbconvert_exporter": "python",
   "pygments_lexer": "ipython3",
   "version": "3.8.3"
  },
  "orig_nbformat": 4,
  "vscode": {
   "interpreter": {
    "hash": "f1e7dfa4028ecbdedcddc863972528864aea52c12c7614bc4f4c47ec76e77350"
   }
  }
 },
 "nbformat": 4,
 "nbformat_minor": 2
}
