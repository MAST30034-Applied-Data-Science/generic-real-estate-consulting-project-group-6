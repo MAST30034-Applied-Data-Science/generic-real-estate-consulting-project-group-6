{
 "cells": [
  {
   "cell_type": "code",
   "execution_count": 1,
   "metadata": {},
   "outputs": [
    {
     "name": "stdout",
     "output_type": "stream",
     "text": [
      "Completed\n"
     ]
    }
   ],
   "source": [
    "import os\n",
    "from urllib.request import urlretrieve\n",
    "\n",
    "\n",
    "output_relative_dir = '../data/'\n",
    "\n",
    "if not os.path.exists(output_relative_dir):\n",
    "    os.makedirs(output_relative_dir)\n",
    "    \n",
    "for target_dir in ('curated', 'raw'): \n",
    "    if not os.path.exists(output_relative_dir + target_dir):\n",
    "        os.makedirs(output_relative_dir + target_dir)\n",
    "\n",
    "tlc_output_dir = output_relative_dir + 'raw'\n",
    "\n",
    "url = 'https://www.abs.gov.au/statistics/standards/australian-statistical-geography-standard-asgs-edition-3/jul2021-jun2026/access-and-downloads/digital-boundary-files/SA2_2021_AUST_SHP_GDA2020.zip'\n",
    "\n",
    "output_dir = f\"{tlc_output_dir}/Boundary.zip\"\n",
    "urlretrieve(url, output_dir) \n",
    "    \n",
    "print(f\"Completed\")\n",
    "\n",
    "\n",
    "import zipfile\n",
    " \n",
    "f = zipfile.ZipFile(\"../data/raw/Boundary.zip\",'r') \n",
    "for file in f.namelist():\n",
    "    f.extract(file,\"../data/raw\") \n",
    "f.close()"
   ]
  },
  {
   "cell_type": "code",
   "execution_count": 2,
   "metadata": {},
   "outputs": [
    {
     "name": "stdout",
     "output_type": "stream",
     "text": [
      "Completed\n"
     ]
    }
   ],
   "source": [
    "url = 'https://www.abs.gov.au/statistics/people/population/regional-population/2020-21/32180DS0001_2020-21.xlsx'\n",
    "\n",
    "output_dir = f\"{tlc_output_dir}/population.xlsx\"\n",
    "urlretrieve(url, output_dir) \n",
    "    \n",
    "print(f\"Completed\")"
   ]
  },
  {
   "cell_type": "code",
   "execution_count": 3,
   "metadata": {},
   "outputs": [
    {
     "name": "stdout",
     "output_type": "stream",
     "text": [
      "Completed\n"
     ]
    }
   ],
   "source": [
    "url = 'https://www.abs.gov.au/statistics/labour/earnings-and-working-conditions/personal-income-australia/2011-12-2017-18/6524055002_DO001.xls'\n",
    "output_dir = f\"{tlc_output_dir}/income.xls\"\n",
    "urlretrieve(url, output_dir) \n",
    "    \n",
    "print(f\"Completed\")\n"
   ]
  },
  {
   "cell_type": "code",
   "execution_count": 4,
   "metadata": {},
   "outputs": [
    {
     "name": "stdout",
     "output_type": "stream",
     "text": [
      "Completed\n"
     ]
    }
   ],
   "source": [
    "url = 'https://www.abs.gov.au/statistics/people/population/population-projections-australia/2017-base-2066/32220_table_a2.xls'\n",
    "output_dir = f\"{tlc_output_dir}/projection.xls\"\n",
    "urlretrieve(url, output_dir) \n",
    "    \n",
    "print(f\"Completed\")"
   ]
  }
 ],
 "metadata": {
  "kernelspec": {
   "display_name": "Python 3.8.10 64-bit",
   "language": "python",
   "name": "python3"
  },
  "language_info": {
   "codemirror_mode": {
    "name": "ipython",
    "version": 3
   },
   "file_extension": ".py",
   "mimetype": "text/x-python",
   "name": "python",
   "nbconvert_exporter": "python",
   "pygments_lexer": "ipython3",
   "version": "3.8.10"
  },
  "orig_nbformat": 4,
  "vscode": {
   "interpreter": {
    "hash": "916dbcbb3f70747c44a77c7bcd40155683ae19c65e1c03b4aa3499c5328201f1"
   }
  }
 },
 "nbformat": 4,
 "nbformat_minor": 2
}
