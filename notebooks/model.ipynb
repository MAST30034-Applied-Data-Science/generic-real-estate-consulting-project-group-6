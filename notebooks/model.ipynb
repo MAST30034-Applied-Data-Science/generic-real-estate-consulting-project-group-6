{
 "cells": [
  {
   "cell_type": "code",
   "execution_count": 1,
   "metadata": {},
   "outputs": [],
   "source": [
    "import pandas as pd\n",
    "import seaborn as sns\n",
    "import geopandas as gdp\n",
    "import matplotlib.pyplot as plt\n",
    "import numpy as np\n",
    "from scipy import stats"
   ]
  },
  {
   "cell_type": "code",
   "execution_count": 4,
   "metadata": {},
   "outputs": [],
   "source": [
    "merged_data = pd.read_csv('../data/raw/property_merged.csv')\n",
    "merged_data = merged_data.drop(columns='Unnamed: 0')\n",
    "\n"
   ]
  },
  {
   "cell_type": "code",
   "execution_count": 39,
   "metadata": {},
   "outputs": [],
   "source": [
    "numeric_variables = merged_data[['cost', 'beds', 'station_distance', 'CBD_distance', '2022 pred', 'ERP 2021', 'density 2021 persons/km2', 'scaled_crime_rate']]\n",
    "numeric_variables = numeric_variables[(np.abs(stats.zscore(numeric_variables['cost'])) < 2.5)]\n",
    "numeric_variables = numeric_variables[(np.abs(stats.zscore(numeric_variables['station_distance'])) < 2.5)]\n",
    "numeric_variables = numeric_variables[(np.abs(stats.zscore(numeric_variables['CBD_distance'])) < 2.5)]\n",
    "numeric_variables = numeric_variables[(np.abs(stats.zscore(numeric_variables['2022 pred'])) < 2.5)]\n",
    "numeric_variables['CBD_distance'] =np.log(numeric_variables['CBD_distance'])\n",
    "numeric_variables['station_distance'] =np.log(numeric_variables['station_distance'])"
   ]
  },
  {
   "cell_type": "code",
   "execution_count": 40,
   "metadata": {},
   "outputs": [],
   "source": [
    "sample =numeric_variables.sample(n=2000, random_state=30034)"
   ]
  },
  {
   "cell_type": "code",
   "execution_count": 73,
   "metadata": {},
   "outputs": [],
   "source": [
    "sample['POP'] = sample['2022 pred']\n",
    "sample['ERP'] = sample['ERP 2021']\n",
    "sample['DENSITY'] = sample['density 2021 persons/km2']"
   ]
  },
  {
   "cell_type": "code",
   "execution_count": 92,
   "metadata": {},
   "outputs": [],
   "source": [
    "import seaborn as sns\n",
    "import matplotlib.pyplot as plt\n",
    "import matplotlib as mpl\n",
    "from statsmodels.formula.api import ols\n",
    "\n",
    "fit = ols(\n",
    "    formula='cost ~  beds+  scaled_crime_rate  + station_distance + CBD_distance + POP  + ERP + DENSITY',\n",
    "    data=sample  \n",
    ").fit()"
   ]
  },
  {
   "cell_type": "code",
   "execution_count": 93,
   "metadata": {},
   "outputs": [
    {
     "name": "stdout",
     "output_type": "stream",
     "text": [
      "                            OLS Regression Results                            \n",
      "==============================================================================\n",
      "Dep. Variable:                   cost   R-squared:                       0.176\n",
      "Model:                            OLS   Adj. R-squared:                  0.173\n",
      "Method:                 Least Squares   F-statistic:                     60.56\n",
      "Date:                Mon, 19 Sep 2022   Prob (F-statistic):           4.79e-79\n",
      "Time:                        01:35:17   Log-Likelihood:                -12919.\n",
      "No. Observations:                1988   AIC:                         2.585e+04\n",
      "Df Residuals:                    1980   BIC:                         2.590e+04\n",
      "Df Model:                           7                                         \n",
      "Covariance Type:            nonrobust                                         \n",
      "=====================================================================================\n",
      "                        coef    std err          t      P>|t|      [0.025      0.975]\n",
      "-------------------------------------------------------------------------------------\n",
      "Intercept           518.0995     72.833      7.114      0.000     375.263     660.936\n",
      "beds                 69.2981      4.049     17.115      0.000      61.357      77.239\n",
      "scaled_crime_rate     0.0654      0.067      0.971      0.331      -0.067       0.198\n",
      "station_distance      6.8609      4.470      1.535      0.125      -1.905      15.627\n",
      "CBD_distance        -31.1103      6.618     -4.701      0.000     -44.089     -18.131\n",
      "POP                   0.0161      0.002      7.274      0.000       0.012       0.020\n",
      "ERP                  -0.0105      0.001     -7.171      0.000      -0.013      -0.008\n",
      "DENSITY               0.0082      0.003      3.221      0.001       0.003       0.013\n",
      "==============================================================================\n",
      "Omnibus:                      306.448   Durbin-Watson:                   2.026\n",
      "Prob(Omnibus):                  0.000   Jarque-Bera (JB):             3192.023\n",
      "Skew:                          -0.371   Prob(JB):                         0.00\n",
      "Kurtosis:                       9.163   Cond. No.                     4.99e+05\n",
      "==============================================================================\n",
      "\n",
      "Notes:\n",
      "[1] Standard Errors assume that the covariance matrix of the errors is correctly specified.\n",
      "[2] The condition number is large, 4.99e+05. This might indicate that there are\n",
      "strong multicollinearity or other numerical problems.\n"
     ]
    }
   ],
   "source": [
    "print(fit.summary())"
   ]
  },
  {
   "cell_type": "code",
   "execution_count": 94,
   "metadata": {},
   "outputs": [],
   "source": [
    "X_train = sample[['beds']]\n",
    "Y_train = sample[['cost']]\n"
   ]
  },
  {
   "cell_type": "code",
   "execution_count": 95,
   "metadata": {},
   "outputs": [],
   "source": [
    "sample1 = numeric_variables.sample(n=1000, random_state=30034)\n",
    "X_test = sample1[['beds', 'station_distance', 'CBD_distance', '2022 pred', 'ERP 2021', 'density 2021 persons/km2', 'scaled_crime_rate']]\n",
    "Y_test = sample1[['cost']]"
   ]
  },
  {
   "cell_type": "code",
   "execution_count": 97,
   "metadata": {},
   "outputs": [
    {
     "data": {
      "image/png": "[encoded data removed]",
      "text/plain": [
       "<Figure size 432x288 with 1 Axes>"
      ]
     },
     "metadata": {},
     "output_type": "display_data"
    }
   ],
   "source": [
    "from sklearn import datasets, linear_model\n",
    "\n",
    "regr = linear_model.LinearRegression()\n",
    "\n",
    "regr.fit(X_train, Y_train)\n",
    "\n",
    "plt.scatter(X_train, Y_train,color='blue')\n",
    "\n",
    "plt.plot(X_train,regr.predict(X_train),color='red',linewidth=4)\n",
    "\n",
    "plt.xticks(())\n",
    "\n",
    "plt.yticks(())\n",
    "\n",
    "plt.show()\n"
   ]
  },
  {
   "cell_type": "code",
   "execution_count": 98,
   "metadata": {},
   "outputs": [
    {
     "data": {
      "text/plain": [
       "<matplotlib.collections.PathCollection at 0x7f868ff76130>"
      ]
     },
     "execution_count": 98,
     "metadata": {},
     "output_type": "execute_result"
    },
    {
     "data": {
      "image/png": "[encoded data removed]",
      "text/plain": [
       "<Figure size 432x288 with 1 Axes>"
      ]
     },
     "metadata": {
      "needs_background": "light"
     },
     "output_type": "display_data"
    }
   ],
   "source": [
    "plt.scatter(X_train, regr.predict(X_train),color='blue')"
   ]
  }
 ],
 "metadata": {
  "kernelspec": {
   "display_name": "Python 3.8.9 64-bit",
   "language": "python",
   "name": "python3"
  },
  "language_info": {
   "codemirror_mode": {
    "name": "ipython",
    "version": 3
   },
   "file_extension": ".py",
   "mimetype": "text/x-python",
   "name": "python",
   "nbconvert_exporter": "python",
   "pygments_lexer": "ipython3",
   "version": "3.8.9"
  },
  "orig_nbformat": 4,
  "vscode": {
   "interpreter": {
    "hash": "31f2aee4e71d21fbe5cf8b01ff0e069b9275f58929596ceb00d14d90e3e16cd6"
   }
  }
 },
 "nbformat": 4,
 "nbformat_minor": 2
}
