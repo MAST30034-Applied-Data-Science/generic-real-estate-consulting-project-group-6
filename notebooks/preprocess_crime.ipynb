{
 "cells": [
  {
   "cell_type": "code",
   "execution_count": 61,
   "metadata": {},
   "outputs": [
    {
     "name": "stderr",
     "output_type": "stream",
     "text": [
      "/opt/anaconda3/envs/ads/lib/python3.8/site-packages/geopandas/_compat.py:112: UserWarning: The Shapely GEOS version (3.10.3-CAPI-1.16.1) is incompatible with the GEOS version PyGEOS was compiled with (3.10.1-CAPI-1.16.0). Conversions between both will be slow.\n",
      "  warnings.warn(\n"
     ]
    }
   ],
   "source": [
    "import pandas as pd\n",
    "import geopandas as gdp"
   ]
  },
  {
   "cell_type": "code",
   "execution_count": 36,
   "metadata": {},
   "outputs": [],
   "source": [
    "opt_dir = '../data/raw'\n",
    "crime = pd.read_excel(f\"{opt_dir}/external_data/recorded_offences.xlsx\", sheet_name=\"Table 03\", nrows=74721)\n",
    "crime"
   ]
  },
  {
   "cell_type": "code",
   "execution_count": 106,
   "metadata": {},
   "outputs": [
    {
     "data": {
      "text/html": [
       "<div>\n",
       "<style scoped>\n",
       "    .dataframe tbody tr th:only-of-type {\n",
       "        vertical-align: middle;\n",
       "    }\n",
       "\n",
       "    .dataframe tbody tr th {\n",
       "        vertical-align: top;\n",
       "    }\n",
       "\n",
       "    .dataframe thead th {\n",
       "        text-align: right;\n",
       "    }\n",
       "</style>\n",
       "<table border=\"1\" class=\"dataframe\">\n",
       "  <thead>\n",
       "    <tr style=\"text-align: right;\">\n",
       "      <th></th>\n",
       "      <th>postcode</th>\n",
       "      <th>Offence Count</th>\n",
       "    </tr>\n",
       "  </thead>\n",
       "  <tbody>\n",
       "    <tr>\n",
       "      <th>0</th>\n",
       "      <td>3000</td>\n",
       "      <td>37272</td>\n",
       "    </tr>\n",
       "    <tr>\n",
       "      <th>1</th>\n",
       "      <td>3002</td>\n",
       "      <td>2429</td>\n",
       "    </tr>\n",
       "    <tr>\n",
       "      <th>2</th>\n",
       "      <td>3003</td>\n",
       "      <td>2708</td>\n",
       "    </tr>\n",
       "    <tr>\n",
       "      <th>3</th>\n",
       "      <td>3004</td>\n",
       "      <td>2415</td>\n",
       "    </tr>\n",
       "    <tr>\n",
       "      <th>4</th>\n",
       "      <td>3005</td>\n",
       "      <td>174</td>\n",
       "    </tr>\n",
       "    <tr>\n",
       "      <th>...</th>\n",
       "      <td>...</td>\n",
       "      <td>...</td>\n",
       "    </tr>\n",
       "    <tr>\n",
       "      <th>691</th>\n",
       "      <td>3990</td>\n",
       "      <td>5</td>\n",
       "    </tr>\n",
       "    <tr>\n",
       "      <th>692</th>\n",
       "      <td>3991</td>\n",
       "      <td>118</td>\n",
       "    </tr>\n",
       "    <tr>\n",
       "      <th>693</th>\n",
       "      <td>3992</td>\n",
       "      <td>206</td>\n",
       "    </tr>\n",
       "    <tr>\n",
       "      <th>694</th>\n",
       "      <td>3995</td>\n",
       "      <td>2179</td>\n",
       "    </tr>\n",
       "    <tr>\n",
       "      <th>695</th>\n",
       "      <td>3996</td>\n",
       "      <td>531</td>\n",
       "    </tr>\n",
       "  </tbody>\n",
       "</table>\n",
       "<p>696 rows × 2 columns</p>\n",
       "</div>"
      ],
      "text/plain": [
       "     postcode  Offence Count\n",
       "0        3000          37272\n",
       "1        3002           2429\n",
       "2        3003           2708\n",
       "3        3004           2415\n",
       "4        3005            174\n",
       "..        ...            ...\n",
       "691      3990              5\n",
       "692      3991            118\n",
       "693      3992            206\n",
       "694      3995           2179\n",
       "695      3996            531\n",
       "\n",
       "[696 rows x 2 columns]"
      ]
     },
     "execution_count": 106,
     "metadata": {},
     "output_type": "execute_result"
    }
   ],
   "source": [
    "crime = crime[['Postcode', 'Offence Count']]\n",
    "crime_agg_yr_pc = crime.groupby(['Postcode'], as_index=False).sum()\n",
    "crime_agg_yr_pc = crime_agg_yr_pc.rename(columns={'Postcode' : 'postcode'})\n",
    "crime_agg_yr_pc"
   ]
  },
  {
   "cell_type": "code",
   "execution_count": 107,
   "metadata": {},
   "outputs": [],
   "source": [
    "population = pd.read_csv('../data/raw/external_data/population_complete.csv', index_col=0)\n",
    "population = population.drop(columns=['ERP 2020', 'Area km2', 'density 2021 persons/km2'])"
   ]
  },
  {
   "cell_type": "code",
   "execution_count": 117,
   "metadata": {},
   "outputs": [],
   "source": [
    "postcode = pd.read_csv('../data/raw/external_data/australian_postcodes.csv')\n",
    "postcode = postcode[postcode['state'] == 'VIC']\n",
    "postcode_sa2 = postcode[['postcode', 'SA2_MAINCODE_2016']]\n",
    "postcode_sa2 = postcode_sa2.drop_duplicates()\n",
    "postcode_sa2 = postcode_sa2.rename(columns={'SA2_MAINCODE_2016' : 'SA2 code'})"
   ]
  },
  {
   "cell_type": "code",
   "execution_count": 125,
   "metadata": {},
   "outputs": [
    {
     "data": {
      "text/html": [
       "<div>\n",
       "<style scoped>\n",
       "    .dataframe tbody tr th:only-of-type {\n",
       "        vertical-align: middle;\n",
       "    }\n",
       "\n",
       "    .dataframe tbody tr th {\n",
       "        vertical-align: top;\n",
       "    }\n",
       "\n",
       "    .dataframe thead th {\n",
       "        text-align: right;\n",
       "    }\n",
       "</style>\n",
       "<table border=\"1\" class=\"dataframe\">\n",
       "  <thead>\n",
       "    <tr style=\"text-align: right;\">\n",
       "      <th></th>\n",
       "      <th>postcode</th>\n",
       "      <th>SA2 code</th>\n",
       "      <th>ERP 2021</th>\n",
       "    </tr>\n",
       "  </thead>\n",
       "  <tbody>\n",
       "    <tr>\n",
       "      <th>0</th>\n",
       "      <td>3000</td>\n",
       "      <td>206041122.0</td>\n",
       "      <td>47192.0</td>\n",
       "    </tr>\n",
       "    <tr>\n",
       "      <th>1</th>\n",
       "      <td>3001</td>\n",
       "      <td>206041122.0</td>\n",
       "      <td>47192.0</td>\n",
       "    </tr>\n",
       "    <tr>\n",
       "      <th>2</th>\n",
       "      <td>3002</td>\n",
       "      <td>206041119.0</td>\n",
       "      <td>5803.0</td>\n",
       "    </tr>\n",
       "    <tr>\n",
       "      <th>3</th>\n",
       "      <td>3003</td>\n",
       "      <td>206041127.0</td>\n",
       "      <td>3.0</td>\n",
       "    </tr>\n",
       "    <tr>\n",
       "      <th>4</th>\n",
       "      <td>3004</td>\n",
       "      <td>412082251.0</td>\n",
       "      <td>32825.0</td>\n",
       "    </tr>\n",
       "    <tr>\n",
       "      <th>...</th>\n",
       "      <td>...</td>\n",
       "      <td>...</td>\n",
       "      <td>...</td>\n",
       "    </tr>\n",
       "    <tr>\n",
       "      <th>742</th>\n",
       "      <td>8111</td>\n",
       "      <td>206041122.0</td>\n",
       "      <td>47192.0</td>\n",
       "    </tr>\n",
       "    <tr>\n",
       "      <th>743</th>\n",
       "      <td>8120</td>\n",
       "      <td>206041122.0</td>\n",
       "      <td>47192.0</td>\n",
       "    </tr>\n",
       "    <tr>\n",
       "      <th>744</th>\n",
       "      <td>8205</td>\n",
       "      <td>206041122.0</td>\n",
       "      <td>47192.0</td>\n",
       "    </tr>\n",
       "    <tr>\n",
       "      <th>745</th>\n",
       "      <td>8785</td>\n",
       "      <td>212041311.0</td>\n",
       "      <td>32936.0</td>\n",
       "    </tr>\n",
       "    <tr>\n",
       "      <th>746</th>\n",
       "      <td>9999</td>\n",
       "      <td>206041122.0</td>\n",
       "      <td>47192.0</td>\n",
       "    </tr>\n",
       "  </tbody>\n",
       "</table>\n",
       "<p>747 rows × 3 columns</p>\n",
       "</div>"
      ],
      "text/plain": [
       "     postcode     SA2 code  ERP 2021\n",
       "0        3000  206041122.0   47192.0\n",
       "1        3001  206041122.0   47192.0\n",
       "2        3002  206041119.0    5803.0\n",
       "3        3003  206041127.0       3.0\n",
       "4        3004  412082251.0   32825.0\n",
       "..        ...          ...       ...\n",
       "742      8111  206041122.0   47192.0\n",
       "743      8120  206041122.0   47192.0\n",
       "744      8205  206041122.0   47192.0\n",
       "745      8785  212041311.0   32936.0\n",
       "746      9999  206041122.0   47192.0\n",
       "\n",
       "[747 rows x 3 columns]"
      ]
     },
     "execution_count": 125,
     "metadata": {},
     "output_type": "execute_result"
    }
   ],
   "source": [
    "postcode_population = pd.merge(postcode_sa2, population, on='SA2 code', how='left')\n",
    "postcode_population_agg = postcode_population.groupby('postcode', as_index=False).sum()\n",
    "postcode_population_agg"
   ]
  },
  {
   "cell_type": "code",
   "execution_count": 126,
   "metadata": {},
   "outputs": [],
   "source": [
    "crime_sa2 = pd.merge(crime_agg_yr_pc, postcode_population_agg, on='postcode', how='left')"
   ]
  },
  {
   "cell_type": "code",
   "execution_count": 128,
   "metadata": {},
   "outputs": [],
   "source": [
    "crime_sa2['scaled_crime_rate'] = crime_sa2['Offence Count'] / crime_sa2['ERP 2021']"
   ]
  },
  {
   "cell_type": "code",
   "execution_count": 131,
   "metadata": {},
   "outputs": [],
   "source": [
    "crime_sa2.to_csv(\"../data/raw/external_data/crime_completed.csv\")"
   ]
  }
 ],
 "metadata": {
  "kernelspec": {
   "display_name": "Python 3.8.3",
   "language": "python",
   "name": "python3"
  },
  "language_info": {
   "codemirror_mode": {
    "name": "ipython",
    "version": 3
   },
   "file_extension": ".py",
   "mimetype": "text/x-python",
   "name": "python",
   "nbconvert_exporter": "python",
   "pygments_lexer": "ipython3",
   "version": "3.8.3"
  },
  "orig_nbformat": 4,
  "vscode": {
   "interpreter": {
    "hash": "f1e7dfa4028ecbdedcddc863972528864aea52c12c7614bc4f4c47ec76e77350"
   }
  }
 },
 "nbformat": 4,
 "nbformat_minor": 2
}
