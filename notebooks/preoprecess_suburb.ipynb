{
 "cells": [
  {
   "cell_type": "markdown",
   "metadata": {},
   "source": [
    "----------\n",
    "# Preprocess 3 （Suburb Dataset）\n",
    "1. Find Average Rental Price of Suburbs\n",
    "2. Merge Population, Income\n",
    "3. Find number of Schools\n",
    "4. Find number of Hospital\n",
    "5. Find number of Train Stations\n",
    "-----------"
   ]
  },
  {
   "cell_type": "code",
   "execution_count": 2,
   "metadata": {},
   "outputs": [
    {
     "name": "stderr",
     "output_type": "stream",
     "text": [
      "/opt/anaconda3/envs/ads/lib/python3.8/site-packages/geopandas/_compat.py:112: UserWarning: The Shapely GEOS version (3.10.3-CAPI-1.16.1) is incompatible with the GEOS version PyGEOS was compiled with (3.10.1-CAPI-1.16.0). Conversions between both will be slow.\n",
      "  warnings.warn(\n"
     ]
    }
   ],
   "source": [
    "import numpy as np\n",
    "import pandas as pd\n",
    "import json\n",
    "import seaborn as sns\n",
    "import geopandas as gpd\n",
    "from geopandas.tools import sjoin"
   ]
  },
  {
   "cell_type": "markdown",
   "metadata": {},
   "source": [
    "### Find Average Rental Price of Suburbs\n",
    "load dataset"
   ]
  },
  {
   "cell_type": "code",
   "execution_count": 4,
   "metadata": {},
   "outputs": [
    {
     "data": {
      "text/html": [
       "<div>\n",
       "<style scoped>\n",
       "    .dataframe tbody tr th:only-of-type {\n",
       "        vertical-align: middle;\n",
       "    }\n",
       "\n",
       "    .dataframe tbody tr th {\n",
       "        vertical-align: top;\n",
       "    }\n",
       "\n",
       "    .dataframe thead th {\n",
       "        text-align: right;\n",
       "    }\n",
       "</style>\n",
       "<table border=\"1\" class=\"dataframe\">\n",
       "  <thead>\n",
       "    <tr style=\"text-align: right;\">\n",
       "      <th></th>\n",
       "      <th>type</th>\n",
       "      <th>cloest station</th>\n",
       "      <th>station_distance</th>\n",
       "      <th>cloest school</th>\n",
       "      <th>school_distance</th>\n",
       "      <th>CBD_distance</th>\n",
       "      <th>postcode</th>\n",
       "      <th>address</th>\n",
       "      <th>cost</th>\n",
       "      <th>beds</th>\n",
       "      <th>bath</th>\n",
       "      <th>parking</th>\n",
       "      <th>LOC_PID</th>\n",
       "      <th>LOC_NAME</th>\n",
       "      <th>suburb_population</th>\n",
       "      <th>density</th>\n",
       "      <th>offence_count_scaled</th>\n",
       "    </tr>\n",
       "  </thead>\n",
       "  <tbody>\n",
       "    <tr>\n",
       "      <th>0</th>\n",
       "      <td>Apartment / Unit / Flat</td>\n",
       "      <td>30</td>\n",
       "      <td>1803.65</td>\n",
       "      <td>1374</td>\n",
       "      <td>667.06</td>\n",
       "      <td>1702.19</td>\n",
       "      <td>3000</td>\n",
       "      <td>1901/368 St Kilda Road Melbourne</td>\n",
       "      <td>1800.0</td>\n",
       "      <td>3</td>\n",
       "      <td>2</td>\n",
       "      <td>2</td>\n",
       "      <td>loc9901d119afda</td>\n",
       "      <td>Melbourne</td>\n",
       "      <td>64537.612413</td>\n",
       "      <td>9902.586904</td>\n",
       "      <td>0.614944</td>\n",
       "    </tr>\n",
       "    <tr>\n",
       "      <th>1</th>\n",
       "      <td>Apartment / Unit / Flat</td>\n",
       "      <td>176</td>\n",
       "      <td>371.68</td>\n",
       "      <td>2265</td>\n",
       "      <td>352.49</td>\n",
       "      <td>2267.13</td>\n",
       "      <td>3000</td>\n",
       "      <td>1211/200 Spencer Street Melbourne</td>\n",
       "      <td>480.0</td>\n",
       "      <td>1</td>\n",
       "      <td>1</td>\n",
       "      <td>1</td>\n",
       "      <td>loc9901d119afda</td>\n",
       "      <td>Melbourne</td>\n",
       "      <td>64537.612413</td>\n",
       "      <td>9902.586904</td>\n",
       "      <td>0.614944</td>\n",
       "    </tr>\n",
       "  </tbody>\n",
       "</table>\n",
       "</div>"
      ],
      "text/plain": [
       "                      type  cloest station  station_distance  cloest school  \\\n",
       "0  Apartment / Unit / Flat              30           1803.65           1374   \n",
       "1  Apartment / Unit / Flat             176            371.68           2265   \n",
       "\n",
       "   school_distance  CBD_distance  postcode                            address  \\\n",
       "0           667.06       1702.19      3000   1901/368 St Kilda Road Melbourne   \n",
       "1           352.49       2267.13      3000  1211/200 Spencer Street Melbourne   \n",
       "\n",
       "     cost  beds  bath  parking          LOC_PID   LOC_NAME  suburb_population  \\\n",
       "0  1800.0     3     2        2  loc9901d119afda  Melbourne       64537.612413   \n",
       "1   480.0     1     1        1  loc9901d119afda  Melbourne       64537.612413   \n",
       "\n",
       "       density  offence_count_scaled  \n",
       "0  9902.586904              0.614944  \n",
       "1  9902.586904              0.614944  "
      ]
     },
     "execution_count": 4,
     "metadata": {},
     "output_type": "execute_result"
    }
   ],
   "source": [
    "property = pd.read_csv(\"../data/curated/property_final.csv\", index_col=[0])\n",
    "property.head(2)"
   ]
  },
  {
   "cell_type": "code",
   "execution_count": null,
   "metadata": {},
   "outputs": [],
   "source": []
  }
 ],
 "metadata": {
  "kernelspec": {
   "display_name": "Python 3.8.3",
   "language": "python",
   "name": "python3"
  },
  "language_info": {
   "codemirror_mode": {
    "name": "ipython",
    "version": 3
   },
   "file_extension": ".py",
   "mimetype": "text/x-python",
   "name": "python",
   "nbconvert_exporter": "python",
   "pygments_lexer": "ipython3",
   "version": "3.8.3"
  },
  "orig_nbformat": 4,
  "vscode": {
   "interpreter": {
    "hash": "f1e7dfa4028ecbdedcddc863972528864aea52c12c7614bc4f4c47ec76e77350"
   }
  }
 },
 "nbformat": 4,
 "nbformat_minor": 2
}
