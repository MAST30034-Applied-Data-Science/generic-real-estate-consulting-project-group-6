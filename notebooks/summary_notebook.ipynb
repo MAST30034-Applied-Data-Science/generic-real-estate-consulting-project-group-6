{
 "cells": [
  {
   "cell_type": "markdown",
   "metadata": {},
   "source": [
    "---------\n",
    "# Real Estate Industry Project Summary Notebook\n"
   ]
  },
  {
   "cell_type": "markdown",
   "metadata": {},
   "source": [
    "**Group 6 Members:**\n",
    "\n",
    "Jiayi Zhao,      1067884\n",
    "\n",
    "Xueke Zheng, 1135290\n",
    "\n",
    "Yuchen Cao,   1174014\n",
    "\n",
    "Yuwen Hu,      1173984\n",
    "\n",
    "Yilong Wang,  1174206"
   ]
  },
  {
   "cell_type": "markdown",
   "metadata": {},
   "source": [
    "-------\n",
    "### Project Introduction\n",
    "\n",
    "Improving living standards has boosted people's requirements for a living environment. For many people, selecting an cost-effective property has become a complicated problem. Companies and individuals who want to invest in real estate may also hesitate because of uncertainty about the direction of the properties' prices and the return on Investment (ROI). The summary notebook demonstrates the overall approach of our findings on the trend and influential features of the property rental price for suburbs and recommendations for choosing an affordable and livable suburb for our stakeholders.\n"
   ]
  },
  {
   "cell_type": "markdown",
   "metadata": {},
   "source": [
    "-----------\n",
    "The Summary Notebook only demonstrate overall approach. Detialed code is in the specific notebook, the linke is provided.\n",
    "\n",
    "Table of contents\n",
    "1. Download Datasets\n",
    "2. Web Scrape\n",
    "3. Properties' Proximity to CBD, School and Train Station.\n",
    "    \n",
    "    3.1 Proximity to CBD\n",
    "    \n",
    "    3.2 Proximity to School\n",
    "\n",
    "    3.3 Proximity to Train Station\n",
    "\n",
    "4. Preprocess and Feature Engineering\n",
    "\n",
    "    4.1 Preprocess Property Dataset\n",
    "\n",
    "    4.2 Find Suburb Population\n",
    "\n",
    "    4.3 Find Suburb Income\n",
    "\n",
    "    4.5 Find Suburb Offence Count\n",
    "\n",
    "    4.6 Generate Curated Property Dataset\n",
    "\n",
    "    4.7 Generate Curated Suburb Dataset\n",
    "\n",
    "5. Featuren Analysis\n",
    "\n",
    "\n",
    "  \n",
    "6. Model for Property Rental Price Estimation\n",
    "\n",
    "    6.1 GLM Model (Property)\n",
    "\n",
    "    6.2 Random Forest Regression (Property)\n",
    "\n",
    "7.  Model for Suburb Future Rental Cost Estimation\n",
    "        \n",
    "    7.1 OLM Model (Suburb)\n",
    "\n",
    "    7.3 Prediction\n",
    "\n",
    "    \n",
    "\n",
    "8. Discussion\n",
    "\n",
    "9. Suggestion\n",
    "\n",
    "10. Interactive Map for Suburb Future Estimation\n",
    "--------"
   ]
  },
  {
   "cell_type": "markdown",
   "metadata": {},
   "source": [
    "---------\n",
    "## 1. Download Dataset\n",
    "Download relevant datasets using URLs.\n",
    "\n",
    "##### From the Australian Bureau of Statistics (ABS), download the following datasets.\n",
    "1. Population estimates and components by SA2, 2020 to 2022\n",
    "2. Projected population, components of change and summary statistics - Australia, state/territory, greater capital city and rest of state, 2017 (base) to 2066\n",
    "3. Table 1 - Total income 2011-12 to 2017-18\n",
    "4. Table 1 - Total income 2014-15 to 2018-19\n",
    "5. Statistical Areas Level 2 - 2021 - Shapefile\n",
    "6. Statistical Area Level 2 (SA2) ASGS Ed 2016 Digital Boundaries in ESRI Shapefile Format\n",
    "\n",
    "##### From Crime Statistics Agency, download the following dataset.\n",
    "1. Data Tables LGA Recorded Offences Year Ending June 2022\n",
    "\n",
    "##### From DATA VIC, download the following dataset.\n",
    "1. School Locations 2021\n",
    "\n",
    "##### From Australia Government Official Website, download the following dataset.\n",
    "1. VIC Localities SHP GDA20(ZIP)\n",
    "\n",
    "##### From Matthew Proctor, download the following dataset.\n",
    "1. Australian Postcodes\n",
    "\n",
    "##### Following datasets are already in the GitHub repository.\n",
    "1. Train Station Locations (../data/raw/train_station.csv)\n",
    "2. Main Hospital List (../data/raw/MainHospitalList.csv)\n",
    "These two datasets are pre-downloaded for our client because they are very hard to download automatically. The train station location dataset is applied through email from https://datashare.maps.vic.gov.au/.\n",
    "The hospital data is retrieved from the Open Map Service(OMS).\n",
    "\n",
    "##### Running the code cell below will download the dataset automatically.\n"
   ]
  },
  {
   "cell_type": "code",
   "execution_count": 3,
   "metadata": {},
   "outputs": [
    {
     "name": "stdout",
     "output_type": "stream",
     "text": [
      "Set up dir\n",
      "Start Downloading .......\n",
      "australian_postcodes.csv finished\n",
      "SA2_2021_AUST_SHP_GDA2020.zip finished\n",
      "Start unzip SA2_2021_AUST_SHP_GDA2020.zip\n",
      "Unzip SA2_2021_AUST_SHP_GDA2020.zip finished\n",
      "SA2_2016.zip finished\n",
      "Start unzip SA2_2016.zip\n",
      "Unzip SA2_2016.zip finished\n",
      "vic_localities.zip finished\n",
      "Start unzip vic_localities.zip\n",
      "Unzip vic_localities.zip finished\n",
      "population.xlsx finished\n",
      "income_SA2.xls finished\n",
      "population_pred.xls finished\n",
      "income_SA2_2019.xlsx finished\n",
      "recorded_offences.xlsx finished\n",
      "school_location.csv finished\n"
     ]
    }
   ],
   "source": [
    "# The script will download dataset automatically\n",
    "%run ../scripts/dataset_download.py"
   ]
  },
  {
   "cell_type": "markdown",
   "metadata": {},
   "source": [
    "#####  Running the code cell below will retrieve useful data from the XLSX file and convert it to CSV\n",
    "* Retrieve Victoria SA2 income (2012-2018) from <code>income_SA2.xls</code> and stored in <code>income_SA2_vic.csv</code>\n",
    "\n",
    "* Retrieve Victoria population projection for Greater Melbourne, Rest of Vic and Vic from population_pred.xls stored in CSV files.\n",
    "\n",
    "* Retrieve Victoria SA2 population from <code>population.xlsx</code> and stored in <code>population.csv</code>\n",
    "\n",
    "* Retrieve Victoria SA2 income (2019) and merge to <code>income_SA2_vic.csv</code> then stored in <code>income_SA2_full.csv</code>\n"
   ]
  },
  {
   "cell_type": "code",
   "execution_count": 1,
   "metadata": {},
   "outputs": [],
   "source": [
    "%run ../scripts/convert_xls_to_csv.py"
   ]
  },
  {
   "cell_type": "markdown",
   "metadata": {},
   "source": [
    "## 2. Web Scrape\n",
    "* The on-lease properties information is scraped from the Domain website (link : https://www.domain.com.au/rent/vic)\n",
    "\n",
    "* The Domain is one of the most popular property websites in Australia. Although similar websites like realestate.com.au are trendy, the rental properties published on these websites are predominantly the same. Use python to scrape the current on-lease properties from the website www.domain.com.au.\n",
    "\n",
    "**NOTE** : Since many other groups may scrape the exact websites, we only use a single thread to scrape to avoid the collapse of the website server. Therefore, the scrape script will took roughly 5 hours. So we also provided pre-scraped property data for time efficiency."
   ]
  },
  {
   "cell_type": "code",
   "execution_count": null,
   "metadata": {},
   "outputs": [],
   "source": [
    "%run ../scripts/scrape.py\n",
    "%run ../scrupts/scrape3.py"
   ]
  }
 ],
 "metadata": {
  "kernelspec": {
   "display_name": "Python 3.8.3",
   "language": "python",
   "name": "python3"
  },
  "language_info": {
   "codemirror_mode": {
    "name": "ipython",
    "version": 3
   },
   "file_extension": ".py",
   "mimetype": "text/x-python",
   "name": "python",
   "nbconvert_exporter": "python",
   "pygments_lexer": "ipython3",
   "version": "3.8.3"
  },
  "orig_nbformat": 4,
  "vscode": {
   "interpreter": {
    "hash": "f1e7dfa4028ecbdedcddc863972528864aea52c12c7614bc4f4c47ec76e77350"
   }
  }
 },
 "nbformat": 4,
 "nbformat_minor": 2
}
