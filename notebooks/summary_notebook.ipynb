{
 "cells": [
  {
   "cell_type": "markdown",
   "metadata": {},
   "source": [
    "---------\n",
    "# Real Estate Industry Project Summary Notebook\n"
   ]
  },
  {
   "cell_type": "markdown",
   "metadata": {},
   "source": [
    "**Group 6 Members:**\n",
    "\n",
    "Jiayi Zhao,      1067884\n",
    "\n",
    "Xueke Zheng, 1135290\n",
    "\n",
    "Yuchen Cao,   1174014\n",
    "\n",
    "Yuwen Hu,      1173984\n",
    "\n",
    "Yilong Wang,  1174206"
   ]
  },
  {
   "cell_type": "markdown",
   "metadata": {},
   "source": [
    "-------\n",
    "### Project Introduction\n",
    "\n",
    "Improving living standards has boosted people's requirements for a living environment. For many people, selecting an cost-effective property has become a complicated problem. Companies and individuals who want to invest in real estate may also hesitate because of uncertainty about the direction of the properties' prices and the return on Investment (ROI). \n",
    "\n",
    "The summary notebook demonstrates our findings on the trend and influential features of the property rental price for suburbs.\n",
    "\n",
    "The Summary Notebook only demonstrate overall approach. Detialed code is in the specific notebook, the hyperlinks is provided.\n"
   ]
  },
  {
   "cell_type": "code",
   "execution_count": 2,
   "metadata": {},
   "outputs": [
    {
     "name": "stderr",
     "output_type": "stream",
     "text": [
      "/opt/anaconda3/envs/ads/lib/python3.8/site-packages/geopandas/_compat.py:112: UserWarning: The Shapely GEOS version (3.10.3-CAPI-1.16.1) is incompatible with the GEOS version PyGEOS was compiled with (3.10.1-CAPI-1.16.0). Conversions between both will be slow.\n",
      "  warnings.warn(\n"
     ]
    }
   ],
   "source": [
    "# import all packages needed\n",
    "import numpy as np\n",
    "import pandas as pd\n",
    "import json\n",
    "import seaborn as sns\n",
    "import geopandas as gpd\n",
    "from scipy import stats\n",
    "import folium\n",
    "import matplotlib.pyplot as plt"
   ]
  },
  {
   "cell_type": "markdown",
   "metadata": {},
   "source": [
    "-----------\n",
    "#### **Table of contents**\n",
    "1. Download Datasets\n",
    "2. Web Scrape\n",
    "3. Properties' Proximity to CBD, School and Train Station.\n",
    "    \n",
    "    3.1 Proximity to CBD\n",
    "    \n",
    "    3.2 Proximity to School\n",
    "\n",
    "    3.3 Proximity to Train Station\n",
    "\n",
    "4. Preprocess and Feature Engineering\n",
    "\n",
    "    4.1 Preprocess Property Dataset\n",
    "\n",
    "    4.2 Find Suburb Population\n",
    "\n",
    "    4.3 Find Suburb Income\n",
    "\n",
    "    4.5 Find Suburb Offence Count\n",
    "\n",
    "    4.6 Generate Curated Property Dataset\n",
    "\n",
    "    4.7 Generate Curated Suburb Dataset\n",
    "\n",
    "  \n",
    "5. Model for Property Feature Importance\n",
    "\n",
    "    5.1 GLM Model (Property)\n",
    "\n",
    "    5.2 Random Forest Regression (Property)\n",
    "\n",
    "6.  Model for Suburb Future Rental Cost Estimation\n",
    "        \n",
    "    6.1 OLM Model (Suburb)\n",
    "\n",
    "    6.3 Prediction\n",
    "\n",
    "    \n",
    "\n",
    "7. Discussion\n",
    "\n",
    "8. Suggestion\n",
    "\n",
    "9. Interactive Map for Suburb Future Estimation\n",
    "--------"
   ]
  },
  {
   "cell_type": "markdown",
   "metadata": {},
   "source": [
    "---------\n",
    "## 1. Download Dataset\n",
    "Download relevant datasets using URLs.\n",
    "\n",
    "##### From the Australian Bureau of Statistics (ABS), download the following datasets.\n",
    "1. Population estimates and components by SA2, 2020 to 2022\n",
    "2. Projected population, components of change and summary statistics - Australia, state/territory, greater capital city and rest of state, 2017 (base) to 2066\n",
    "3. Table 1 - Total income 2011-12 to 2017-18\n",
    "4. Table 1 - Total income 2014-15 to 2018-19\n",
    "5. Statistical Areas Level 2 - 2021 - Shapefile\n",
    "6. Statistical Area Level 2 (SA2) ASGS Ed 2016 Digital Boundaries in ESRI Shapefile Format\n",
    "\n",
    "##### From Crime Statistics Agency, download the following dataset.\n",
    "1. Data Tables LGA Recorded Offences Year Ending June 2022\n",
    "\n",
    "##### From DATA VIC, download the following dataset.\n",
    "1. School Locations 2021\n",
    "\n",
    "##### From Australia Government Official Website, download the following dataset.\n",
    "1. VIC Localities SHP GDA20(ZIP)\n",
    "\n",
    "##### From Matthew Proctor, download the following dataset.\n",
    "1. Australian Postcodes\n",
    "\n",
    "##### Following datasets are already in the GitHub repository.\n",
    "1. Train Station Locations (../data/raw/train_station.csv)\n",
    "2. Main Hospital List (../data/raw/MainHospitalList.csv)\n",
    "These two datasets are pre-downloaded for our client because they are very hard to download automatically. The train station location dataset is applied through email from https://datashare.maps.vic.gov.au/.\n",
    "The hospital data is retrieved from the Open Map Service(OMS).\n",
    "\n",
    "##### Running the code cell below will download the dataset automatically.\n"
   ]
  },
  {
   "cell_type": "code",
   "execution_count": 3,
   "metadata": {},
   "outputs": [
    {
     "name": "stdout",
     "output_type": "stream",
     "text": [
      "Set up dir\n",
      "Start Downloading .......\n",
      "australian_postcodes.csv finished\n",
      "SA2_2021_AUST_SHP_GDA2020.zip finished\n",
      "Start unzip SA2_2021_AUST_SHP_GDA2020.zip\n",
      "Unzip SA2_2021_AUST_SHP_GDA2020.zip finished\n",
      "SA2_2016.zip finished\n",
      "Start unzip SA2_2016.zip\n",
      "Unzip SA2_2016.zip finished\n",
      "vic_localities.zip finished\n",
      "Start unzip vic_localities.zip\n",
      "Unzip vic_localities.zip finished\n",
      "population.xlsx finished\n",
      "income_SA2.xls finished\n",
      "population_pred.xls finished\n",
      "income_SA2_2019.xlsx finished\n",
      "recorded_offences.xlsx finished\n",
      "school_location.csv finished\n"
     ]
    }
   ],
   "source": [
    "# The script will download dataset automatically\n",
    "%run ../scripts/dataset_download.py"
   ]
  },
  {
   "cell_type": "markdown",
   "metadata": {},
   "source": [
    "#####  Running the code cell below will retrieve useful data from the XLSX file and convert it to CSV\n",
    "* Retrieve Victoria SA2 income (2012-2018) from <code>income_SA2.xls</code> and stored in [income_SA2_vic.csv](../data/raw/external_data/income_SA2_vic.csv)\n",
    "\n",
    "* Retrieve Victoria population projection for Greater Melbourne, Rest of Vic and Vic from population_pred.xls stored in the following CSV files.\n",
    "\n",
    "  [population_pred_greater_melbourne.csv](../data/raw/external_data/population_pred_greater_melbourne.csv)\n",
    "\n",
    "  [population_pred_rest_vic.csv](../data/raw/external_data/population_pred_rest_vic.csv)\n",
    "\n",
    "  [population_pred_vic.csv](../data/raw/external_data/population_pred_vic.csv)\n",
    "\n",
    "* Retrieve Victoria SA2 population from <code>population.xlsx</code> and stored in [population.csv](../data/raw/external_data/population.csv)\n",
    "\n",
    "* Retrieve Victoria SA2 income (2019) and merge to <code>income_SA2_vic.csv</code> then stored in [income_SA2_full.csv](../data/raw/external_data/income_SA2_full.csv)\n"
   ]
  },
  {
   "cell_type": "code",
   "execution_count": 1,
   "metadata": {},
   "outputs": [],
   "source": [
    "%run ../scripts/convert_xls_to_csv.py"
   ]
  },
  {
   "cell_type": "markdown",
   "metadata": {},
   "source": [
    "##### Preview of Population and Income distribution"
   ]
  },
  {
   "cell_type": "code",
   "execution_count": null,
   "metadata": {},
   "outputs": [],
   "source": [
    "SA2_2016_shp = gpd.read_file(\"../data/raw/external_data/SA2_shape_2016/SA2_2016_AUST.shp\")\n",
    "SA2_2016_shp = SA2_2016_shp[SA2_2016_shp['STE_NAME16'] == 'Victoria']\n",
    "SA2_population = pd.read_csv(\"../data/raw/external_data/population.csv\", index_col=[0])\n",
    "SA2_population = SA2_population.rename(columns={ 'SA2 code' : 'SA2_MAIN16'})\n",
    "SA2_population['SA2_MAIN16'] = SA2_population['SA2_MAIN16'].astype(str)\n",
    "SA2_income = pd.read_csv(\"../data/raw/external_data/income_SA2_full.csv\", index_col=[0])\n",
    "SA2_income = SA2_income[['SA2', '2018-19.3']].rename(columns={'SA2' : 'SA2_MAIN16', '2018-19.3': 'income'})\n",
    "SA2_income['SA2_MAIN16'] = SA2_income['SA2_MAIN16'].astype(str)\n",
    "SA2_income['income'] = SA2_income['income'].replace('np', np.nan)\n",
    "SA2_income['income'] = SA2_income['income'].astype(float)\n",
    "geoJSON = SA2_2016_shp[['SA2_MAIN16', 'geometry']].drop_duplicates('SA2_MAIN16').dropna(how='any').to_json()"
   ]
  },
  {
   "cell_type": "markdown",
   "metadata": {},
   "source": [
    "Population distribution map"
   ]
  },
  {
   "cell_type": "code",
   "execution_count": null,
   "metadata": {},
   "outputs": [],
   "source": [
    "SA2_population_map = folium.Map(location=[-37.5, 145], tiles=\"Stamen Terrain\", zoom_start=9)\n",
    "\n",
    "# refer to the folium documentations on more information on how to plot aggregated data.\n",
    "population_ch = folium.Choropleth(\n",
    "    geo_data=geoJSON, # geoJSON \n",
    "    name='SA2 Population', # name of plot\n",
    "    data= SA2_population[['SA2_MAIN16', 'ERP 2021']], # data source\n",
    "    columns=['SA2_MAIN16', 'ERP 2021'], # the columns required\n",
    "    key_on= 'feature.properties.SA2_MAIN16' , # this is from the geoJSON's properties\n",
    "    fill_color='Reds', # color scheme\n",
    "    nan_fill_color='green',\n",
    "    legend_name='SA2 Population 2021'\n",
    ")\n",
    "population_ch.add_to(SA2_population_map)\n",
    "SA2_population_map"
   ]
  },
  {
   "cell_type": "markdown",
   "metadata": {},
   "source": [
    "Income distribution map"
   ]
  },
  {
   "cell_type": "code",
   "execution_count": null,
   "metadata": {},
   "outputs": [],
   "source": [
    "SA2_income_map = folium.Map(location=[-37.5, 145], tiles=\"Stamen Terrain\", zoom_start=9)\n",
    "\n",
    "# refer to the folium documentations on more information on how to plot aggregated data.\n",
    "income_ch = folium.Choropleth(\n",
    "    geo_data=geoJSON, # geoJSON \n",
    "    name='SA2 Income', # name of plot\n",
    "    data= SA2_income[['SA2_MAIN16', 'income']], # data source\n",
    "    columns=['SA2_MAIN16', 'income'], # the columns required\n",
    "    key_on= 'feature.properties.SA2_MAIN16' , # this is from the geoJSON's properties\n",
    "    fill_color='Reds', # color scheme\n",
    "    nan_fill_color='green',\n",
    "    legend_name='SA2 Median Income 2019'\n",
    ")\n",
    "income_ch.add_to(SA2_income_map)\n",
    "SA2_income_map.save(\"../plots/SA2_income_distribution_map.html\")\n",
    "SA2_income_map"
   ]
  },
  {
   "cell_type": "markdown",
   "metadata": {},
   "source": [
    "## 2. Web Scrape\n",
    "* The on-lease properties information is scraped from the Domain website (link : https://www.domain.com.au/rent/vic)\n",
    "\n",
    "* The Domain is one of the most popular property websites in Australia. Although similar websites like realestate.com.au are trendy, the rental properties published on these websites are predominantly the same. Use python to scrape the current on-lease properties from the website www.domain.com.au.\n",
    "\n",
    "**NOTE** : Since many other groups may scrape the exact websites, we only use a single thread to scrape to avoid the collapse of the website server. Therefore, the scrape script will took roughly 5 hours. So we also provided pre-scraped property data for time efficiency. \n",
    "The pre-scraped property information is stored in [property_raw.json](../data/raw/property_raw.json), could skip the code cell below."
   ]
  },
  {
   "cell_type": "code",
   "execution_count": null,
   "metadata": {},
   "outputs": [],
   "source": [
    "# Tooks more than 5 hours to run this cell.\n",
    "%run ../scripts/scrape.py\n",
    "%run ../scrupts/scrape2.py"
   ]
  },
  {
   "cell_type": "markdown",
   "metadata": {},
   "source": [
    "##### Preview of property raw data"
   ]
  },
  {
   "cell_type": "code",
   "execution_count": 9,
   "metadata": {},
   "outputs": [
    {
     "data": {
      "text/html": [
       "<div>\n",
       "<style scoped>\n",
       "    .dataframe tbody tr th:only-of-type {\n",
       "        vertical-align: middle;\n",
       "    }\n",
       "\n",
       "    .dataframe tbody tr th {\n",
       "        vertical-align: top;\n",
       "    }\n",
       "\n",
       "    .dataframe thead th {\n",
       "        text-align: right;\n",
       "    }\n",
       "</style>\n",
       "<table border=\"1\" class=\"dataframe\">\n",
       "  <thead>\n",
       "    <tr style=\"text-align: right;\">\n",
       "      <th></th>\n",
       "      <th>name</th>\n",
       "      <th>cost_text</th>\n",
       "      <th>coordinates</th>\n",
       "      <th>rooms</th>\n",
       "      <th>type</th>\n",
       "    </tr>\n",
       "  </thead>\n",
       "  <tbody>\n",
       "    <tr>\n",
       "      <th>0</th>\n",
       "      <td>1901/368 St Kilda Road Melbourne VIC 3000</td>\n",
       "      <td>$1800 Per Week</td>\n",
       "      <td>[-37.8318086, 144.9710272]</td>\n",
       "      <td>[3 Beds, 2 Baths, 2 Parking]</td>\n",
       "      <td>Apartment / Unit / Flat</td>\n",
       "    </tr>\n",
       "    <tr>\n",
       "      <th>1</th>\n",
       "      <td>1211/200 Spencer Street Melbourne VIC 3000</td>\n",
       "      <td>$480 per week</td>\n",
       "      <td>[-37.816228, 144.9532465]</td>\n",
       "      <td>[1 Bed, 1 Bath, 1 Parking]</td>\n",
       "      <td>Apartment / Unit / Flat</td>\n",
       "    </tr>\n",
       "    <tr>\n",
       "      <th>2</th>\n",
       "      <td>1008/380 Little Lonsdale Street Melbourne VIC ...</td>\n",
       "      <td>$400 pw</td>\n",
       "      <td>[-37.8121026, 144.9581291]</td>\n",
       "      <td>[1 Bed, 1 Bath]</td>\n",
       "      <td>Apartment / Unit / Flat</td>\n",
       "    </tr>\n",
       "    <tr>\n",
       "      <th>3</th>\n",
       "      <td>3/27 Flinders Lane Melbourne VIC 3000</td>\n",
       "      <td>$420 per week</td>\n",
       "      <td>[-37.8147317, 144.9733655]</td>\n",
       "      <td>[1 Bed, 1 Bath]</td>\n",
       "      <td>Apartment / Unit / Flat</td>\n",
       "    </tr>\n",
       "    <tr>\n",
       "      <th>4</th>\n",
       "      <td>611/408 Lonsdale Street Melbourne VIC 3000</td>\n",
       "      <td>$350</td>\n",
       "      <td>[-37.8125979, 144.9604012]</td>\n",
       "      <td>[1 Bed, 1 Bath]</td>\n",
       "      <td>Apartment / Unit / Flat</td>\n",
       "    </tr>\n",
       "  </tbody>\n",
       "</table>\n",
       "</div>"
      ],
      "text/plain": [
       "                                                name       cost_text  \\\n",
       "0          1901/368 St Kilda Road Melbourne VIC 3000  $1800 Per Week   \n",
       "1         1211/200 Spencer Street Melbourne VIC 3000   $480 per week   \n",
       "2  1008/380 Little Lonsdale Street Melbourne VIC ...         $400 pw   \n",
       "3              3/27 Flinders Lane Melbourne VIC 3000   $420 per week   \n",
       "4         611/408 Lonsdale Street Melbourne VIC 3000            $350   \n",
       "\n",
       "                  coordinates                         rooms  \\\n",
       "0  [-37.8318086, 144.9710272]  [3 Beds, 2 Baths, 2 Parking]   \n",
       "1   [-37.816228, 144.9532465]    [1 Bed, 1 Bath, 1 Parking]   \n",
       "2  [-37.8121026, 144.9581291]               [1 Bed, 1 Bath]   \n",
       "3  [-37.8147317, 144.9733655]               [1 Bed, 1 Bath]   \n",
       "4  [-37.8125979, 144.9604012]               [1 Bed, 1 Bath]   \n",
       "\n",
       "                      type  \n",
       "0  Apartment / Unit / Flat  \n",
       "1  Apartment / Unit / Flat  \n",
       "2  Apartment / Unit / Flat  \n",
       "3  Apartment / Unit / Flat  \n",
       "4  Apartment / Unit / Flat  "
      ]
     },
     "execution_count": 9,
     "metadata": {},
     "output_type": "execute_result"
    }
   ],
   "source": [
    "property_raw = pd.read_json('../data/raw/property_raw.json')\n",
    "property_raw = property_raw.transpose()\n",
    "property_raw = property_raw.reset_index(drop=True)\n",
    "property_raw.head(5)"
   ]
  },
  {
   "cell_type": "markdown",
   "metadata": {},
   "source": [
    "**We obtained 15347 properties information from the Domain.**"
   ]
  },
  {
   "cell_type": "code",
   "execution_count": null,
   "metadata": {},
   "outputs": [],
   "source": [
    "# This cell display the distribution of rental properteis\n",
    "property_raw_sample = property_raw.sample(n = 200, random_state=30034)\n",
    "\n",
    "property_map = folium.Map(location=[-37, 145], tiles=\"Stamen Terrain\", zoom_start=8)\n",
    "\n",
    "def plotPropertyDot(point):\n",
    "    '''input: series that contains a numeric named latitude and a numeric named longitude\n",
    "    this function creates a CircleMarker and adds it to your this_map'''\n",
    "    folium.CircleMarker(location=[point.coordinates[0], point.coordinates[1]],\n",
    "                        radius=5,\n",
    "                        weight=1,#remove outline\n",
    "                        popup = point.type,\n",
    "                        fill_color='red').add_to(property_map)\n",
    "\n",
    "property_raw_sample.apply(plotPropertyDot, axis=1)\n",
    "property_map"
   ]
  },
  {
   "cell_type": "markdown",
   "metadata": {},
   "source": [
    "-------\n",
    "## 3. Properties' Proximity to CBD, School and Train Station"
   ]
  },
  {
   "cell_type": "code",
   "execution_count": 18,
   "metadata": {},
   "outputs": [],
   "source": [
    "# Load boundaries file of SA2 and Suburbs\n",
    "SA2_2020_shp = gpd.read_file(\"../data/raw/external_data/SA2_shape/SA2_2021_AUST_GDA2020.shp\")\n",
    "SA2_2020_shp = SA2_2020_shp[SA2_2020_shp['STE_NAME21'] == 'Victoria']\n",
    "SA2_2016_shp = gpd.read_file(\"../data/raw/external_data/SA2_shape_2016/SA2_2016_AUST.shp\")\n",
    "SA2_2016_shp = SA2_2016_shp[SA2_2016_shp['STE_NAME16'] == 'Victoria']\n",
    "suburb_shp = gpd.read_file(\"../data/raw/external_data/vic_localities/vic_localities.shp\")"
   ]
  },
  {
   "cell_type": "markdown",
   "metadata": {},
   "source": [
    "**We use Open Route Service(ORS) API to find the properties's proximity to CBD, School and Train Station.**\n",
    "#### Application programming interface (API)\n",
    "* What is API?\n",
    "\n",
    "  An API is a way for two or more computer programs to communicate with each other. It is a software interface that provides a service to other software.\n",
    "\n",
    "* What is ORS?\n",
    "\n",
    "  ORS is much more than a website with a route service for cars, pedestrians and bicycles based on Open Standards and Open Geodata. Several Location Based Services (LBS) created from OSM data are available,  for example :\n",
    "\n",
    "    * Directions Service\n",
    "    * Matrix Service\n",
    "    * Geocoding Service\n",
    "    * Locations Service\n",
    "    * Isochrones Service\n",
    "\n",
    "This project predomaintly use the **Matrix Service**\n",
    "* Matrix Service\n",
    "  * Obtain one-to-many, many-to-one and many-to-many matrices for time and distance.\n",
    "\n",
    "  * For our report, we use the distance matrix to request the distance between each property and the three points of CBD, nearest school and nearest station.\n",
    "\n",
    "**NOTE** :  please use your own ORS key"
   ]
  },
  {
   "cell_type": "markdown",
   "metadata": {},
   "source": [
    "#### 3.1 Proximity to CBD\n",
    "The detailed code is in the notebook [distance_to_CBD](./distance_to_CBD.ipynb)\n",
    "1. Use Flinders Street Station geographic coordinate to represent CBD\n",
    "2. Use the ORS API to find the route distance between property and CBD\n",
    "3. Store the data\n",
    "\n",
    "Please **RUN ALL** code cells in the notebook [distance_to_CBD](./distance_to_CBD.ipynb), to obtain route distance data.\n",
    "\n",
    "**BUT**, due to the limited calls for a single API key, we also provided a CSV file ([distance_to_CBD.csv](../data/raw/distance_to_CBD.csv)) contains the ORS output for the pre-scraped rental properties."
   ]
  },
  {
   "cell_type": "code",
   "execution_count": 18,
   "metadata": {},
   "outputs": [
    {
     "data": {
      "text/html": [
       "<div>\n",
       "<style scoped>\n",
       "    .dataframe tbody tr th:only-of-type {\n",
       "        vertical-align: middle;\n",
       "    }\n",
       "\n",
       "    .dataframe tbody tr th {\n",
       "        vertical-align: top;\n",
       "    }\n",
       "\n",
       "    .dataframe thead th {\n",
       "        text-align: right;\n",
       "    }\n",
       "</style>\n",
       "<table border=\"1\" class=\"dataframe\">\n",
       "  <thead>\n",
       "    <tr style=\"text-align: right;\">\n",
       "      <th></th>\n",
       "      <th>name</th>\n",
       "      <th>CBD_distance</th>\n",
       "    </tr>\n",
       "  </thead>\n",
       "  <tbody>\n",
       "    <tr>\n",
       "      <th>0</th>\n",
       "      <td>1901/368 St Kilda Road Melbourne VIC 3000</td>\n",
       "      <td>1702.19</td>\n",
       "    </tr>\n",
       "    <tr>\n",
       "      <th>1</th>\n",
       "      <td>1211/200 Spencer Street Melbourne VIC 3000</td>\n",
       "      <td>2267.13</td>\n",
       "    </tr>\n",
       "  </tbody>\n",
       "</table>\n",
       "</div>"
      ],
      "text/plain": [
       "                                         name  CBD_distance\n",
       "0   1901/368 St Kilda Road Melbourne VIC 3000       1702.19\n",
       "1  1211/200 Spencer Street Melbourne VIC 3000       2267.13"
      ]
     },
     "execution_count": 18,
     "metadata": {},
     "output_type": "execute_result"
    }
   ],
   "source": [
    "proximity_CBD = pd.read_csv(\"../data/raw/distance_to_CBD.csv\", index_col=[0])\n",
    "proximity_CBD.head(2)"
   ]
  },
  {
   "cell_type": "code",
   "execution_count": 19,
   "metadata": {},
   "outputs": [
    {
     "data": {
      "image/png": "[encoded data removed]",
      "text/plain": [
       "<Figure size 432x432 with 1 Axes>"
      ]
     },
     "metadata": {
      "needs_background": "light"
     },
     "output_type": "display_data"
    }
   ],
   "source": [
    "ax_CBD = proximity_CBD.plot.hist(bins=150, \n",
    "                                 column='CBD_distance', \n",
    "                                 figsize=(6,6), \n",
    "                                 title='Property CBD Proximity(m) Histogram',\n",
    "                                 xlabel = 'Route Distance (m)',\n",
    "                                 ylabel = 'Frequency')"
   ]
  },
  {
   "cell_type": "markdown",
   "metadata": {},
   "source": [
    "As demonstrate in the histogram above, the CBD distance are highly right skewed, which indicates that most on-lease properties are around melbourne."
   ]
  },
  {
   "cell_type": "markdown",
   "metadata": {},
   "source": [
    "#### 3.2 Proximity to School\n",
    "The detailed code is in the notebook [distance_to_school](./distance_to_school.ipynb)\n",
    "1. Find the closest school to every property in the coordinate system\n",
    "3. Use the ORS API to find the route distance between property and its closest school\n",
    "4. Store the data\n",
    "\n",
    "Please **RUN ALL** code cells in the notebook [distance_to_school](./distance_to_school.ipynb) to obtain route distance data.\n",
    "\n",
    "**BUT**, due to the limited calls for a single API key, we also provided a CSV file ([properties_school_proximity.csv](../data/raw/properties_shcool_proximity.csv)) contains the ORS output for the pre-scraped rental properties."
   ]
  },
  {
   "cell_type": "code",
   "execution_count": 49,
   "metadata": {},
   "outputs": [
    {
     "data": {
      "text/html": [
       "<div>\n",
       "<style scoped>\n",
       "    .dataframe tbody tr th:only-of-type {\n",
       "        vertical-align: middle;\n",
       "    }\n",
       "\n",
       "    .dataframe tbody tr th {\n",
       "        vertical-align: top;\n",
       "    }\n",
       "\n",
       "    .dataframe thead th {\n",
       "        text-align: right;\n",
       "    }\n",
       "</style>\n",
       "<table border=\"1\" class=\"dataframe\">\n",
       "  <thead>\n",
       "    <tr style=\"text-align: right;\">\n",
       "      <th></th>\n",
       "      <th>name</th>\n",
       "      <th>cost_text</th>\n",
       "      <th>coordinates</th>\n",
       "      <th>rooms</th>\n",
       "      <th>type</th>\n",
       "      <th>coord</th>\n",
       "      <th>closest school</th>\n",
       "      <th>proximity to school</th>\n",
       "    </tr>\n",
       "  </thead>\n",
       "  <tbody>\n",
       "    <tr>\n",
       "      <th>0</th>\n",
       "      <td>1901/368 St Kilda Road Melbourne VIC 3000</td>\n",
       "      <td>$1800 Per Week</td>\n",
       "      <td>[-37.8318086, 144.9710272]</td>\n",
       "      <td>['3 Beds', '2 Baths', '2 Parking']</td>\n",
       "      <td>Apartment / Unit / Flat</td>\n",
       "      <td>[144.9710272, -37.8318086]</td>\n",
       "      <td>1374</td>\n",
       "      <td>667.06</td>\n",
       "    </tr>\n",
       "    <tr>\n",
       "      <th>1</th>\n",
       "      <td>1211/200 Spencer Street Melbourne VIC 3000</td>\n",
       "      <td>$480 per week</td>\n",
       "      <td>[-37.816228, 144.9532465]</td>\n",
       "      <td>['1 Bed', '1 Bath', '1 Parking']</td>\n",
       "      <td>Apartment / Unit / Flat</td>\n",
       "      <td>[144.9532465, -37.816228]</td>\n",
       "      <td>2265</td>\n",
       "      <td>352.49</td>\n",
       "    </tr>\n",
       "    <tr>\n",
       "      <th>2</th>\n",
       "      <td>1008/380 Little Lonsdale Street Melbourne VIC ...</td>\n",
       "      <td>$400 pw</td>\n",
       "      <td>[-37.8121026, 144.9581291]</td>\n",
       "      <td>['1 Bed', '1 Bath']</td>\n",
       "      <td>Apartment / Unit / Flat</td>\n",
       "      <td>[144.9581291, -37.8121026]</td>\n",
       "      <td>2189</td>\n",
       "      <td>401.73</td>\n",
       "    </tr>\n",
       "    <tr>\n",
       "      <th>3</th>\n",
       "      <td>3/27 Flinders Lane Melbourne VIC 3000</td>\n",
       "      <td>$420 per week</td>\n",
       "      <td>[-37.8147317, 144.9733655]</td>\n",
       "      <td>['1 Bed', '1 Bath']</td>\n",
       "      <td>Apartment / Unit / Flat</td>\n",
       "      <td>[144.9733655, -37.8147317]</td>\n",
       "      <td>2193</td>\n",
       "      <td>586.61</td>\n",
       "    </tr>\n",
       "    <tr>\n",
       "      <th>4</th>\n",
       "      <td>611/408 Lonsdale Street Melbourne VIC 3000</td>\n",
       "      <td>$350</td>\n",
       "      <td>[-37.8125979, 144.9604012]</td>\n",
       "      <td>['1 Bed', '1 Bath']</td>\n",
       "      <td>Apartment / Unit / Flat</td>\n",
       "      <td>[144.9604012, -37.8125979]</td>\n",
       "      <td>2265</td>\n",
       "      <td>779.91</td>\n",
       "    </tr>\n",
       "  </tbody>\n",
       "</table>\n",
       "</div>"
      ],
      "text/plain": [
       "                                                name       cost_text  \\\n",
       "0          1901/368 St Kilda Road Melbourne VIC 3000  $1800 Per Week   \n",
       "1         1211/200 Spencer Street Melbourne VIC 3000   $480 per week   \n",
       "2  1008/380 Little Lonsdale Street Melbourne VIC ...         $400 pw   \n",
       "3              3/27 Flinders Lane Melbourne VIC 3000   $420 per week   \n",
       "4         611/408 Lonsdale Street Melbourne VIC 3000            $350   \n",
       "\n",
       "                  coordinates                               rooms  \\\n",
       "0  [-37.8318086, 144.9710272]  ['3 Beds', '2 Baths', '2 Parking']   \n",
       "1   [-37.816228, 144.9532465]    ['1 Bed', '1 Bath', '1 Parking']   \n",
       "2  [-37.8121026, 144.9581291]                 ['1 Bed', '1 Bath']   \n",
       "3  [-37.8147317, 144.9733655]                 ['1 Bed', '1 Bath']   \n",
       "4  [-37.8125979, 144.9604012]                 ['1 Bed', '1 Bath']   \n",
       "\n",
       "                      type                       coord  closest school  \\\n",
       "0  Apartment / Unit / Flat  [144.9710272, -37.8318086]            1374   \n",
       "1  Apartment / Unit / Flat   [144.9532465, -37.816228]            2265   \n",
       "2  Apartment / Unit / Flat  [144.9581291, -37.8121026]            2189   \n",
       "3  Apartment / Unit / Flat  [144.9733655, -37.8147317]            2193   \n",
       "4  Apartment / Unit / Flat  [144.9604012, -37.8125979]            2265   \n",
       "\n",
       "   proximity to school  \n",
       "0               667.06  \n",
       "1               352.49  \n",
       "2               401.73  \n",
       "3               586.61  \n",
       "4               779.91  "
      ]
     },
     "execution_count": 49,
     "metadata": {},
     "output_type": "execute_result"
    }
   ],
   "source": [
    "proximity_school = pd.read_csv(\"../data/raw/properties_shcool_proximity.csv\", index_col=[0])\n",
    "proximity_school.head()"
   ]
  },
  {
   "cell_type": "code",
   "execution_count": 53,
   "metadata": {},
   "outputs": [
    {
     "data": {
      "image/png": "[encoded data removed]",
      "text/plain": [
       "<Figure size 432x432 with 1 Axes>"
      ]
     },
     "metadata": {
      "needs_background": "light"
     },
     "output_type": "display_data"
    }
   ],
   "source": [
    "ax_school = proximity_school.plot.hist(bins=150, \n",
    "                                      column='proximity to school', \n",
    "                                      figsize=(6,6), \n",
    "                                      title='Property School Proximity(m) Histogram',\n",
    "                                      xlabel = 'Route Distance (m)',\n",
    "                                      ylabel = 'Frequency')"
   ]
  },
  {
   "cell_type": "markdown",
   "metadata": {},
   "source": [
    "As demonstrate in the histogram above, the school distance are highly right skewed, which indicates that majority on-lease properties have access to school."
   ]
  },
  {
   "cell_type": "markdown",
   "metadata": {},
   "source": [
    "#### 3.2 Proximity to Train Station\n",
    "The detailed code is in the notebook [distance_to_train_station](./distance_to_train_station.ipynb)\n",
    "1. Find the closest school to every property in the coordinate system\n",
    "3. Use the ORS API to find the route distance between property and its closest school\n",
    "4. Store the data\n",
    "\n",
    "Please **RUN ALL** code cells in the notebook [distance_to_train_station](./distance_to_train_station.ipynb) to obtain route distance data.\n",
    "\n",
    "**BUT**, due to the limited calls for a single API key, we also provided a CSV file ([properties_train_proximity.csv](../data/raw/properties_train_proximity.csv)) contains the ORS output for the pre-scraped rental properties."
   ]
  },
  {
   "cell_type": "code",
   "execution_count": 51,
   "metadata": {},
   "outputs": [
    {
     "data": {
      "text/html": [
       "<div>\n",
       "<style scoped>\n",
       "    .dataframe tbody tr th:only-of-type {\n",
       "        vertical-align: middle;\n",
       "    }\n",
       "\n",
       "    .dataframe tbody tr th {\n",
       "        vertical-align: top;\n",
       "    }\n",
       "\n",
       "    .dataframe thead th {\n",
       "        text-align: right;\n",
       "    }\n",
       "</style>\n",
       "<table border=\"1\" class=\"dataframe\">\n",
       "  <thead>\n",
       "    <tr style=\"text-align: right;\">\n",
       "      <th></th>\n",
       "      <th>name</th>\n",
       "      <th>cost_text</th>\n",
       "      <th>coordinates</th>\n",
       "      <th>rooms</th>\n",
       "      <th>type</th>\n",
       "      <th>closest station</th>\n",
       "      <th>proximity to train station</th>\n",
       "    </tr>\n",
       "  </thead>\n",
       "  <tbody>\n",
       "    <tr>\n",
       "      <th>0</th>\n",
       "      <td>1901/368 St Kilda Road Melbourne VIC 3000</td>\n",
       "      <td>$1800 Per Week</td>\n",
       "      <td>[-37.8318086, 144.9710272]</td>\n",
       "      <td>['3 Beds', '2 Baths', '2 Parking']</td>\n",
       "      <td>Apartment / Unit / Flat</td>\n",
       "      <td>30</td>\n",
       "      <td>1803.65</td>\n",
       "    </tr>\n",
       "    <tr>\n",
       "      <th>1</th>\n",
       "      <td>1211/200 Spencer Street Melbourne VIC 3000</td>\n",
       "      <td>$480 per week</td>\n",
       "      <td>[-37.816228, 144.9532465]</td>\n",
       "      <td>['1 Bed', '1 Bath', '1 Parking']</td>\n",
       "      <td>Apartment / Unit / Flat</td>\n",
       "      <td>176</td>\n",
       "      <td>371.68</td>\n",
       "    </tr>\n",
       "    <tr>\n",
       "      <th>2</th>\n",
       "      <td>1008/380 Little Lonsdale Street Melbourne VIC ...</td>\n",
       "      <td>$400 pw</td>\n",
       "      <td>[-37.8121026, 144.9581291]</td>\n",
       "      <td>['1 Bed', '1 Bath']</td>\n",
       "      <td>Apartment / Unit / Flat</td>\n",
       "      <td>28</td>\n",
       "      <td>248.50</td>\n",
       "    </tr>\n",
       "    <tr>\n",
       "      <th>3</th>\n",
       "      <td>3/27 Flinders Lane Melbourne VIC 3000</td>\n",
       "      <td>$420 per week</td>\n",
       "      <td>[-37.8147317, 144.9733655]</td>\n",
       "      <td>['1 Bed', '1 Bath']</td>\n",
       "      <td>Apartment / Unit / Flat</td>\n",
       "      <td>140</td>\n",
       "      <td>404.26</td>\n",
       "    </tr>\n",
       "    <tr>\n",
       "      <th>4</th>\n",
       "      <td>611/408 Lonsdale Street Melbourne VIC 3000</td>\n",
       "      <td>$350</td>\n",
       "      <td>[-37.8125979, 144.9604012]</td>\n",
       "      <td>['1 Bed', '1 Bath']</td>\n",
       "      <td>Apartment / Unit / Flat</td>\n",
       "      <td>28</td>\n",
       "      <td>525.08</td>\n",
       "    </tr>\n",
       "  </tbody>\n",
       "</table>\n",
       "</div>"
      ],
      "text/plain": [
       "                                                name       cost_text  \\\n",
       "0          1901/368 St Kilda Road Melbourne VIC 3000  $1800 Per Week   \n",
       "1         1211/200 Spencer Street Melbourne VIC 3000   $480 per week   \n",
       "2  1008/380 Little Lonsdale Street Melbourne VIC ...         $400 pw   \n",
       "3              3/27 Flinders Lane Melbourne VIC 3000   $420 per week   \n",
       "4         611/408 Lonsdale Street Melbourne VIC 3000            $350   \n",
       "\n",
       "                  coordinates                               rooms  \\\n",
       "0  [-37.8318086, 144.9710272]  ['3 Beds', '2 Baths', '2 Parking']   \n",
       "1   [-37.816228, 144.9532465]    ['1 Bed', '1 Bath', '1 Parking']   \n",
       "2  [-37.8121026, 144.9581291]                 ['1 Bed', '1 Bath']   \n",
       "3  [-37.8147317, 144.9733655]                 ['1 Bed', '1 Bath']   \n",
       "4  [-37.8125979, 144.9604012]                 ['1 Bed', '1 Bath']   \n",
       "\n",
       "                      type  closest station  proximity to train station  \n",
       "0  Apartment / Unit / Flat               30                     1803.65  \n",
       "1  Apartment / Unit / Flat              176                      371.68  \n",
       "2  Apartment / Unit / Flat               28                      248.50  \n",
       "3  Apartment / Unit / Flat              140                      404.26  \n",
       "4  Apartment / Unit / Flat               28                      525.08  "
      ]
     },
     "execution_count": 51,
     "metadata": {},
     "output_type": "execute_result"
    }
   ],
   "source": [
    "proximity_train= pd.read_csv(\"../data/raw/properties_train_proximity.csv\", index_col=[0])\n",
    "proximity_train.head()"
   ]
  },
  {
   "cell_type": "code",
   "execution_count": 54,
   "metadata": {},
   "outputs": [
    {
     "data": {
      "image/png": "[encoded data removed]",
      "text/plain": [
       "<Figure size 432x432 with 1 Axes>"
      ]
     },
     "metadata": {
      "needs_background": "light"
     },
     "output_type": "display_data"
    }
   ],
   "source": [
    "ax_train = proximity_train.plot.hist(bins=150, \n",
    "                                      column='proximity to train station', \n",
    "                                      figsize=(6,6), \n",
    "                                      title='Property Train Station Proximity(m) Histogram',\n",
    "                                      xlabel = 'Route Distance (m)',\n",
    "                                      ylabel = 'Frequency')"
   ]
  },
  {
   "cell_type": "markdown",
   "metadata": {},
   "source": [
    "As demonstrate in the histogram above, the station distance are highly right skewed, which indicates that majority on-lease properties have access to train station."
   ]
  },
  {
   "cell_type": "markdown",
   "metadata": {},
   "source": [
    "-------------\n",
    "## 4. Preprocess and Feature Engineering\n",
    "4.1 Preprocess Property Dataset\n",
    "\n",
    "4.2 Find Suburb Population\n",
    "\n",
    "4.3 Find Suburb Income\n",
    "\n",
    "4.5 Find Suburb Offence Count\n",
    "\n",
    "4.6 Generate Curated Property Dataset\n",
    "\n",
    "4.7 Generate Curated Suburb Dataset"
   ]
  },
  {
   "cell_type": "markdown",
   "metadata": {},
   "source": [
    "### 4.1 Preprocess Property Dataset\n",
    "The detailed code is in the notebook [preprocess_property_1](./preprocess_property_1.ipynb)\n",
    "\n",
    "1. Merge API request data to property data\n",
    "2. Preprocess property data\n",
    "    * Split postcode and address\n",
    "    * Unify cost measurement to weekly cost\n",
    "    * Split 'rooms' to number of bedrooms, bathrooms and parking\n",
    "3. Find property's suburb and SA2\n",
    "\n",
    "Please **RUN ALL** code cells in the notebook [preprocess_property_1](./preprocess_property_1.ipynb), before run following cells."
   ]
  },
  {
   "cell_type": "code",
   "execution_count": 23,
   "metadata": {},
   "outputs": [
    {
     "data": {
      "text/html": [
       "<div>\n",
       "<style scoped>\n",
       "    .dataframe tbody tr th:only-of-type {\n",
       "        vertical-align: middle;\n",
       "    }\n",
       "\n",
       "    .dataframe tbody tr th {\n",
       "        vertical-align: top;\n",
       "    }\n",
       "\n",
       "    .dataframe thead th {\n",
       "        text-align: right;\n",
       "    }\n",
       "</style>\n",
       "<table border=\"1\" class=\"dataframe\">\n",
       "  <thead>\n",
       "    <tr style=\"text-align: right;\">\n",
       "      <th></th>\n",
       "      <th>name</th>\n",
       "      <th>cost_text</th>\n",
       "      <th>rooms</th>\n",
       "      <th>type</th>\n",
       "      <th>cloest station</th>\n",
       "      <th>station_distance</th>\n",
       "      <th>cloest school</th>\n",
       "      <th>school_distance</th>\n",
       "      <th>CBD_distance</th>\n",
       "      <th>postcode</th>\n",
       "      <th>...</th>\n",
       "      <th>text</th>\n",
       "      <th>beds</th>\n",
       "      <th>bath</th>\n",
       "      <th>parking</th>\n",
       "      <th>Longitude</th>\n",
       "      <th>Latitude</th>\n",
       "      <th>SA2_CODE21</th>\n",
       "      <th>LOC_PID</th>\n",
       "      <th>LOC_NAME</th>\n",
       "      <th>SA2_MAIN16</th>\n",
       "    </tr>\n",
       "  </thead>\n",
       "  <tbody>\n",
       "    <tr>\n",
       "      <th>0</th>\n",
       "      <td>1901/368 St Kilda Road Melbourne VIC 3000</td>\n",
       "      <td>$1800 Per Week</td>\n",
       "      <td>['3 Beds', '2 Baths', '2 Parking']</td>\n",
       "      <td>Apartment / Unit / Flat</td>\n",
       "      <td>30</td>\n",
       "      <td>1803.65</td>\n",
       "      <td>1374</td>\n",
       "      <td>667.06</td>\n",
       "      <td>1702.19</td>\n",
       "      <td>3000</td>\n",
       "      <td>...</td>\n",
       "      <td>Per Week</td>\n",
       "      <td>3</td>\n",
       "      <td>2</td>\n",
       "      <td>2</td>\n",
       "      <td>144.971027</td>\n",
       "      <td>-37.831809</td>\n",
       "      <td>206051512.0</td>\n",
       "      <td>loc9901d119afda</td>\n",
       "      <td>Melbourne</td>\n",
       "      <td>206051132.0</td>\n",
       "    </tr>\n",
       "    <tr>\n",
       "      <th>1</th>\n",
       "      <td>1211/200 Spencer Street Melbourne VIC 3000</td>\n",
       "      <td>$480 per week</td>\n",
       "      <td>['1 Bed', '1 Bath', '1 Parking']</td>\n",
       "      <td>Apartment / Unit / Flat</td>\n",
       "      <td>176</td>\n",
       "      <td>371.68</td>\n",
       "      <td>2265</td>\n",
       "      <td>352.49</td>\n",
       "      <td>2267.13</td>\n",
       "      <td>3000</td>\n",
       "      <td>...</td>\n",
       "      <td>per week</td>\n",
       "      <td>1</td>\n",
       "      <td>1</td>\n",
       "      <td>1</td>\n",
       "      <td>144.953247</td>\n",
       "      <td>-37.816228</td>\n",
       "      <td>206041505.0</td>\n",
       "      <td>loc9901d119afda</td>\n",
       "      <td>Melbourne</td>\n",
       "      <td>206041122.0</td>\n",
       "    </tr>\n",
       "  </tbody>\n",
       "</table>\n",
       "<p>2 rows × 22 columns</p>\n",
       "</div>"
      ],
      "text/plain": [
       "                                         name       cost_text  \\\n",
       "0   1901/368 St Kilda Road Melbourne VIC 3000  $1800 Per Week   \n",
       "1  1211/200 Spencer Street Melbourne VIC 3000   $480 per week   \n",
       "\n",
       "                                rooms                     type  \\\n",
       "0  ['3 Beds', '2 Baths', '2 Parking']  Apartment / Unit / Flat   \n",
       "1    ['1 Bed', '1 Bath', '1 Parking']  Apartment / Unit / Flat   \n",
       "\n",
       "   cloest station  station_distance  cloest school  school_distance  \\\n",
       "0              30           1803.65           1374           667.06   \n",
       "1             176            371.68           2265           352.49   \n",
       "\n",
       "   CBD_distance  postcode  ...      text  beds bath  parking   Longitude  \\\n",
       "0       1702.19      3000  ...  Per Week     3    2        2  144.971027   \n",
       "1       2267.13      3000  ...  per week     1    1        1  144.953247   \n",
       "\n",
       "    Latitude   SA2_CODE21          LOC_PID   LOC_NAME   SA2_MAIN16  \n",
       "0 -37.831809  206051512.0  loc9901d119afda  Melbourne  206051132.0  \n",
       "1 -37.816228  206041505.0  loc9901d119afda  Melbourne  206041122.0  \n",
       "\n",
       "[2 rows x 22 columns]"
      ]
     },
     "execution_count": 23,
     "metadata": {},
     "output_type": "execute_result"
    }
   ],
   "source": [
    "property_1 = pd.read_csv(\"../data/raw/properties_preporcessed_1.csv\", index_col=[0])\n",
    "property_1.head(2)\n",
    "# Ref:\n",
    "# SA2_MAIN16 ---- 2016 version SA2 code\n",
    "# SA2_CODE21 ---- 2020 version SA2 code\n",
    "# LOC_PID ---- Suburb ID \n",
    "# LOC_NAME ---- Suburb name"
   ]
  },
  {
   "cell_type": "markdown",
   "metadata": {},
   "source": [
    "Investigate the weekly rent distribution"
   ]
  },
  {
   "cell_type": "code",
   "execution_count": 24,
   "metadata": {},
   "outputs": [],
   "source": [
    "property_1_plot = property_1[(np.abs(stats.zscore(property_1['cost'])) <2.5)]  # remove some extrem values"
   ]
  },
  {
   "cell_type": "markdown",
   "metadata": {},
   "source": [
    "* Frequency Histogram"
   ]
  },
  {
   "cell_type": "code",
   "execution_count": 25,
   "metadata": {},
   "outputs": [
    {
     "data": {
      "image/png": "[encoded data removed]",
      "text/plain": [
       "<Figure size 1080x360 with 1 Axes>"
      ]
     },
     "metadata": {
      "needs_background": "light"
     },
     "output_type": "display_data"
    }
   ],
   "source": [
    "ax_property_cost = property_1_plot['cost'].plot.hist(bins=50, \n",
    "                                                      column='cost', \n",
    "                                                      figsize=(15,5), \n",
    "                                                      title='Weekly Rental Price(AUD)',\n",
    "                                                      ylabel = 'Frequency')"
   ]
  },
  {
   "cell_type": "markdown",
   "metadata": {},
   "source": [
    "* Density Curve"
   ]
  },
  {
   "cell_type": "code",
   "execution_count": 26,
   "metadata": {},
   "outputs": [
    {
     "data": {
      "image/png": "[encoded data removed]",
      "text/plain": [
       "<Figure size 1080x360 with 1 Axes>"
      ]
     },
     "metadata": {
      "needs_background": "light"
     },
     "output_type": "display_data"
    }
   ],
   "source": [
    "ax_property_cost_density = property_1_plot['cost'].plot.density(figsize=(15,5), \n",
    "                                                                xlim=[0, 1200],\n",
    "                                                                title = 'Weekly Cost(AUD) Density Plot',\n",
    "                                                                xlabel = 'Weekly Cost($)',\n",
    "                                                                ylabel = 'Density')"
   ]
  },
  {
   "cell_type": "markdown",
   "metadata": {},
   "source": [
    "* Normal PDF"
   ]
  },
  {
   "cell_type": "code",
   "execution_count": 86,
   "metadata": {},
   "outputs": [
    {
     "data": {
      "image/png": "[encoded data removed]",
      "text/plain": [
       "<Figure size 1080x360 with 1 Axes>"
      ]
     },
     "metadata": {
      "needs_background": "light"
     },
     "output_type": "display_data"
    }
   ],
   "source": [
    "# Plot between -10 and 1200 with .001 steps.\n",
    "x_axis = np.arange(0, 1200, 0.1)\n",
    "mean = property_1_plot['cost'].mean()\n",
    "std = property_1_plot['cost'].std()/2\n",
    "ax_normal = plt.figure(figsize=(15,5))\n",
    "plt.plot(x_axis, stats.norm.pdf(x_axis,mean,std))\n",
    "plt.show()"
   ]
  },
  {
   "cell_type": "markdown",
   "metadata": {},
   "source": [
    "* From three plots above, we found that the cost may approximately normally distributed."
   ]
  },
  {
   "cell_type": "markdown",
   "metadata": {},
   "source": [
    "Investigae the cost correlation with distance to train station, school and CBD."
   ]
  },
  {
   "cell_type": "code",
   "execution_count": 28,
   "metadata": {},
   "outputs": [
    {
     "data": {
      "image/png": "[encoded data removed]",
      "text/plain": [
       "<Figure size 720x720 with 20 Axes>"
      ]
     },
     "metadata": {},
     "output_type": "display_data"
    }
   ],
   "source": [
    "COL= ['cost', 'station_distance',\t'school_distance',\t'CBD_distance'] # Select features \n",
    "sns.set(style=\"ticks\", color_codes=True)\n",
    "p_plot = sns.pairplot(property_1_plot[COL], plot_kws=dict(s=1, edgecolor=\"b\", linewidth=1)) # scatter plot of total data"
   ]
  },
  {
   "cell_type": "markdown",
   "metadata": {},
   "source": [
    "##### **MORE** analysis is in notebook [analysis](./analysis.ipynb)"
   ]
  },
  {
   "cell_type": "markdown",
   "metadata": {},
   "source": [
    "### 4.2 Find Suburb Population\n",
    "The detailed code is in the notebook [population_for_suburb](./population_for_suburb.ipynb)\n",
    "\n",
    "1. Find that population positively correlated with the number of the properties in the region.\n",
    "\n",
    "      ![population property count scatter plot](../plots/population_property_scatter.jpeg)\n",
    "\n",
    "\n",
    "2. Find the proportion of properties between the intersection of each SA2 and suburb and its SA2.\n",
    "3. Find the population of every suburb according to the proportion of intersection and the population of SA2.\n",
    "      \n",
    "      $\\text{Estimated Suburb Population} = \\sum_i^n{\\frac{\\text{number of properties}}{\\text{total number of properties in SA2}_i} \\times \\text{Population of SA2}_i}$\n",
    "\n",
    "4. Find the density of population for every suburb.\n",
    "\n",
    "Please **RUN ALL** code cells in the notebook [population_for_suburb](./population_for_suburb.ipynb), before run following cells."
   ]
  },
  {
   "cell_type": "code",
   "execution_count": 29,
   "metadata": {},
   "outputs": [
    {
     "data": {
      "text/html": [
       "<div>\n",
       "<style scoped>\n",
       "    .dataframe tbody tr th:only-of-type {\n",
       "        vertical-align: middle;\n",
       "    }\n",
       "\n",
       "    .dataframe tbody tr th {\n",
       "        vertical-align: top;\n",
       "    }\n",
       "\n",
       "    .dataframe thead th {\n",
       "        text-align: right;\n",
       "    }\n",
       "</style>\n",
       "<table border=\"1\" class=\"dataframe\">\n",
       "  <thead>\n",
       "    <tr style=\"text-align: right;\">\n",
       "      <th></th>\n",
       "      <th>LOC_PID</th>\n",
       "      <th>suburb_population</th>\n",
       "      <th>LOC_NAME</th>\n",
       "      <th>suburb_area</th>\n",
       "      <th>density</th>\n",
       "    </tr>\n",
       "  </thead>\n",
       "  <tbody>\n",
       "    <tr>\n",
       "      <th>0</th>\n",
       "      <td>loc0067a4549ed1</td>\n",
       "      <td>4897.0</td>\n",
       "      <td>Korumburra</td>\n",
       "      <td>59.867302</td>\n",
       "      <td>81.797573</td>\n",
       "    </tr>\n",
       "    <tr>\n",
       "      <th>1</th>\n",
       "      <td>loc00a9769647d7</td>\n",
       "      <td>26158.0</td>\n",
       "      <td>Kew</td>\n",
       "      <td>10.520939</td>\n",
       "      <td>2486.279947</td>\n",
       "    </tr>\n",
       "  </tbody>\n",
       "</table>\n",
       "</div>"
      ],
      "text/plain": [
       "           LOC_PID  suburb_population    LOC_NAME  suburb_area      density\n",
       "0  loc0067a4549ed1             4897.0  Korumburra    59.867302    81.797573\n",
       "1  loc00a9769647d7            26158.0         Kew    10.520939  2486.279947"
      ]
     },
     "execution_count": 29,
     "metadata": {},
     "output_type": "execute_result"
    }
   ],
   "source": [
    "suburb_population = pd.read_csv(\"../data/raw/population_for_suburb.csv\", index_col=[0])\n",
    "suburb_population.head(2)"
   ]
  },
  {
   "cell_type": "markdown",
   "metadata": {},
   "source": [
    "For suburb future population projection. The detailed code is in the notebook [populaiton_projection](./population_projections.ipynb)\n",
    "\n",
    "- If the suburb is in the greater melbourne region, we use the greater melbourne growth rate to estimate future population\n",
    "\n",
    "- If the suburb is in the rest of victoria region, we use the rest of vic. growth rate to estimate future population\n",
    "\n",
    "Please **RUN ALL** code cells in the notebook [populaiton_projection](./population_projections.ipynb), before run following cells."
   ]
  },
  {
   "cell_type": "code",
   "execution_count": 31,
   "metadata": {},
   "outputs": [
    {
     "data": {
      "text/html": [
       "<div>\n",
       "<style scoped>\n",
       "    .dataframe tbody tr th:only-of-type {\n",
       "        vertical-align: middle;\n",
       "    }\n",
       "\n",
       "    .dataframe tbody tr th {\n",
       "        vertical-align: top;\n",
       "    }\n",
       "\n",
       "    .dataframe thead th {\n",
       "        text-align: right;\n",
       "    }\n",
       "</style>\n",
       "<table border=\"1\" class=\"dataframe\">\n",
       "  <thead>\n",
       "    <tr style=\"text-align: right;\">\n",
       "      <th></th>\n",
       "      <th>LOC_PID</th>\n",
       "      <th>suburb_population</th>\n",
       "      <th>population_proj_2022</th>\n",
       "      <th>population_proj_2023</th>\n",
       "      <th>population_proj_2024</th>\n",
       "      <th>population_proj_2025</th>\n",
       "    </tr>\n",
       "  </thead>\n",
       "  <tbody>\n",
       "    <tr>\n",
       "      <th>1</th>\n",
       "      <td>loc00a9769647d7</td>\n",
       "      <td>26158.0</td>\n",
       "      <td>26760</td>\n",
       "      <td>27348</td>\n",
       "      <td>27923</td>\n",
       "      <td>28481</td>\n",
       "    </tr>\n",
       "    <tr>\n",
       "      <th>2</th>\n",
       "      <td>loc00d1503504f1</td>\n",
       "      <td>41928.0</td>\n",
       "      <td>42892</td>\n",
       "      <td>43836</td>\n",
       "      <td>44757</td>\n",
       "      <td>45652</td>\n",
       "    </tr>\n",
       "  </tbody>\n",
       "</table>\n",
       "</div>"
      ],
      "text/plain": [
       "           LOC_PID  suburb_population  population_proj_2022  \\\n",
       "1  loc00a9769647d7            26158.0                 26760   \n",
       "2  loc00d1503504f1            41928.0                 42892   \n",
       "\n",
       "   population_proj_2023  population_proj_2024  population_proj_2025  \n",
       "1                 27348                 27923                 28481  \n",
       "2                 43836                 44757                 45652  "
      ]
     },
     "execution_count": 31,
     "metadata": {},
     "output_type": "execute_result"
    }
   ],
   "source": [
    "suburb_population_proj = pd.read_csv(\"../data/raw/population_projection.csv\", index_col=[0])\n",
    "suburb_population_proj.head(2)"
   ]
  },
  {
   "cell_type": "markdown",
   "metadata": {},
   "source": [
    "### 4.3 Find Suburb Income\n",
    "The detailed code is in the notebook [income](./income.ipynb)\n",
    "\n",
    "1. Assume the linear growth of Australia income in future\n",
    "\n",
    "    ![Historical Income Data Line Plot](../plots/income_sample_1.jpeg)\n",
    "\n",
    "    As the plot demonstrate above, victoria regional income growth in a roughly constant rate, therefore use past average increase rate to predit future income may be a good choice\n",
    "2. Calculate the average income growth rate for each SA2 from 2011 to 2019\n",
    "3. Forecast income for each SA2 from 2020 to 2025\n",
    "4. For data with missing value, the Overall Average annual growth rate of income was used to calculate\n",
    "\n",
    "    - **Income with missing value**: Because of incomplete data, the Overall Average Annual growth rate of income was used to calculate. Through the annual income boxplot, found that the annual income distribution is skewed distribution, so use the ratio of median every two years to get growth averaging rate.\n",
    "\n",
    "    - **Assumption**: Assume that the income growth rate of SA2 with missing value is the same as the average income growth rate of the whole state of Victoria\n",
    "    \n",
    "5. Merge income data and property data with SA2\n",
    "\n",
    "6. Find Suburb income\n",
    "\n",
    "Please **RUN ALL** code cells in the notebook [income](./income.ipynb), before run following cells."
   ]
  },
  {
   "cell_type": "code",
   "execution_count": 10,
   "metadata": {},
   "outputs": [
    {
     "data": {
      "text/html": [
       "<div>\n",
       "<style scoped>\n",
       "    .dataframe tbody tr th:only-of-type {\n",
       "        vertical-align: middle;\n",
       "    }\n",
       "\n",
       "    .dataframe tbody tr th {\n",
       "        vertical-align: top;\n",
       "    }\n",
       "\n",
       "    .dataframe thead th {\n",
       "        text-align: right;\n",
       "    }\n",
       "</style>\n",
       "<table border=\"1\" class=\"dataframe\">\n",
       "  <thead>\n",
       "    <tr style=\"text-align: right;\">\n",
       "      <th></th>\n",
       "      <th>LOC_NAME</th>\n",
       "      <th>2011-12.3</th>\n",
       "      <th>2012-13.3</th>\n",
       "      <th>2013-14.3</th>\n",
       "      <th>2014-15.3</th>\n",
       "      <th>2015-16.3</th>\n",
       "      <th>2016-17.3</th>\n",
       "      <th>2017-18.3</th>\n",
       "      <th>2018-19.3</th>\n",
       "      <th>2019</th>\n",
       "      <th>2020</th>\n",
       "      <th>2021</th>\n",
       "      <th>2022</th>\n",
       "      <th>2023</th>\n",
       "      <th>2024</th>\n",
       "      <th>2025</th>\n",
       "    </tr>\n",
       "  </thead>\n",
       "  <tbody>\n",
       "    <tr>\n",
       "      <th>0</th>\n",
       "      <td>Abbotsford</td>\n",
       "      <td>50034.0</td>\n",
       "      <td>50558.0</td>\n",
       "      <td>51419.0</td>\n",
       "      <td>53987.0</td>\n",
       "      <td>57501.0</td>\n",
       "      <td>58359.0</td>\n",
       "      <td>61476.0</td>\n",
       "      <td>64090.0</td>\n",
       "      <td>66409.949224</td>\n",
       "      <td>68813.876673</td>\n",
       "      <td>71304.822215</td>\n",
       "      <td>73885.935758</td>\n",
       "      <td>76560.481231</td>\n",
       "      <td>79331.840710</td>\n",
       "      <td>82203.518699</td>\n",
       "    </tr>\n",
       "    <tr>\n",
       "      <th>1</th>\n",
       "      <td>Aberfeldie</td>\n",
       "      <td>50458.0</td>\n",
       "      <td>52097.0</td>\n",
       "      <td>53037.0</td>\n",
       "      <td>54683.0</td>\n",
       "      <td>56381.0</td>\n",
       "      <td>56597.0</td>\n",
       "      <td>59116.0</td>\n",
       "      <td>61204.0</td>\n",
       "      <td>62920.085721</td>\n",
       "      <td>64684.288398</td>\n",
       "      <td>66497.957172</td>\n",
       "      <td>68362.479013</td>\n",
       "      <td>70279.279779</td>\n",
       "      <td>72249.825306</td>\n",
       "      <td>74275.622534</td>\n",
       "    </tr>\n",
       "    <tr>\n",
       "      <th>2</th>\n",
       "      <td>Aintree</td>\n",
       "      <td>38711.0</td>\n",
       "      <td>39709.0</td>\n",
       "      <td>40111.0</td>\n",
       "      <td>38717.0</td>\n",
       "      <td>39657.0</td>\n",
       "      <td>43924.0</td>\n",
       "      <td>48697.0</td>\n",
       "      <td>51869.0</td>\n",
       "      <td>54142.564367</td>\n",
       "      <td>56515.785463</td>\n",
       "      <td>58993.031525</td>\n",
       "      <td>61578.862259</td>\n",
       "      <td>64278.037238</td>\n",
       "      <td>67095.524658</td>\n",
       "      <td>70036.510488</td>\n",
       "    </tr>\n",
       "    <tr>\n",
       "      <th>3</th>\n",
       "      <td>Airport West</td>\n",
       "      <td>45090.0</td>\n",
       "      <td>46837.0</td>\n",
       "      <td>48941.0</td>\n",
       "      <td>50094.0</td>\n",
       "      <td>52329.0</td>\n",
       "      <td>53575.0</td>\n",
       "      <td>55912.0</td>\n",
       "      <td>58506.0</td>\n",
       "      <td>60726.452293</td>\n",
       "      <td>63031.176428</td>\n",
       "      <td>65423.370737</td>\n",
       "      <td>67906.354937</td>\n",
       "      <td>70483.574736</td>\n",
       "      <td>73158.606615</td>\n",
       "      <td>75935.162795</td>\n",
       "    </tr>\n",
       "    <tr>\n",
       "      <th>4</th>\n",
       "      <td>Albanvale</td>\n",
       "      <td>38444.0</td>\n",
       "      <td>40266.0</td>\n",
       "      <td>40038.0</td>\n",
       "      <td>41211.0</td>\n",
       "      <td>41238.0</td>\n",
       "      <td>41394.0</td>\n",
       "      <td>43026.0</td>\n",
       "      <td>44383.0</td>\n",
       "      <td>45311.439040</td>\n",
       "      <td>46259.299910</td>\n",
       "      <td>47226.988890</td>\n",
       "      <td>48214.920761</td>\n",
       "      <td>49223.518980</td>\n",
       "      <td>50253.215862</td>\n",
       "      <td>51304.452765</td>\n",
       "    </tr>\n",
       "  </tbody>\n",
       "</table>\n",
       "</div>"
      ],
      "text/plain": [
       "       LOC_NAME  2011-12.3  2012-13.3  2013-14.3  2014-15.3  2015-16.3  \\\n",
       "0    Abbotsford    50034.0    50558.0    51419.0    53987.0    57501.0   \n",
       "1    Aberfeldie    50458.0    52097.0    53037.0    54683.0    56381.0   \n",
       "2       Aintree    38711.0    39709.0    40111.0    38717.0    39657.0   \n",
       "3  Airport West    45090.0    46837.0    48941.0    50094.0    52329.0   \n",
       "4     Albanvale    38444.0    40266.0    40038.0    41211.0    41238.0   \n",
       "\n",
       "   2016-17.3  2017-18.3  2018-19.3          2019          2020          2021  \\\n",
       "0    58359.0    61476.0    64090.0  66409.949224  68813.876673  71304.822215   \n",
       "1    56597.0    59116.0    61204.0  62920.085721  64684.288398  66497.957172   \n",
       "2    43924.0    48697.0    51869.0  54142.564367  56515.785463  58993.031525   \n",
       "3    53575.0    55912.0    58506.0  60726.452293  63031.176428  65423.370737   \n",
       "4    41394.0    43026.0    44383.0  45311.439040  46259.299910  47226.988890   \n",
       "\n",
       "           2022          2023          2024          2025  \n",
       "0  73885.935758  76560.481231  79331.840710  82203.518699  \n",
       "1  68362.479013  70279.279779  72249.825306  74275.622534  \n",
       "2  61578.862259  64278.037238  67095.524658  70036.510488  \n",
       "3  67906.354937  70483.574736  73158.606615  75935.162795  \n",
       "4  48214.920761  49223.518980  50253.215862  51304.452765  "
      ]
     },
     "execution_count": 10,
     "metadata": {},
     "output_type": "execute_result"
    }
   ],
   "source": [
    "suburb_income = pd.read_csv(\"../data/raw/income_for_suburb.csv\")\n",
    "suburb_income.head()"
   ]
  },
  {
   "cell_type": "markdown",
   "metadata": {},
   "source": [
    "### 4.5 Find Suburb Offence Count\n",
    "The detailed code is in the notebook [preprocess_crime](./preprocess_crime.ipynb)\n",
    "\n",
    "1. Find each suburb total offence count in past two years.\n",
    "2. Scale the total count by the population.\n",
    "    - $\\text{scaled offence count} = \\frac{\\text{total suburb offence count}}{\\text{suburb population}}$\n",
    "    - We Found that the total offence count are hightly correlated with suburb population\n",
    "\n",
    "    ![offence count pair plot](../plots/suburb_offence_pair.jpeg)\n",
    "\n",
    "    - But the correlation after the count scaled by the population is very weak\n",
    "\n",
    "    ![offence count correlation](../plots/suburb_offence_corr.jpeg)\n",
    "    \n",
    "Please **RUN ALL** code cells in the notebook [preprocess_crime](./preprocess_crime.ipynb), before run following cells."
   ]
  },
  {
   "cell_type": "code",
   "execution_count": 4,
   "metadata": {},
   "outputs": [
    {
     "data": {
      "text/html": [
       "<div>\n",
       "<style scoped>\n",
       "    .dataframe tbody tr th:only-of-type {\n",
       "        vertical-align: middle;\n",
       "    }\n",
       "\n",
       "    .dataframe tbody tr th {\n",
       "        vertical-align: top;\n",
       "    }\n",
       "\n",
       "    .dataframe thead th {\n",
       "        text-align: right;\n",
       "    }\n",
       "</style>\n",
       "<table border=\"1\" class=\"dataframe\">\n",
       "  <thead>\n",
       "    <tr style=\"text-align: right;\">\n",
       "      <th></th>\n",
       "      <th>LOC_PID</th>\n",
       "      <th>LOC_NAME</th>\n",
       "      <th>offence_count_scaled</th>\n",
       "    </tr>\n",
       "  </thead>\n",
       "  <tbody>\n",
       "    <tr>\n",
       "      <th>0</th>\n",
       "      <td>locb9872f35df41</td>\n",
       "      <td>Abbotsford</td>\n",
       "      <td>0.280808</td>\n",
       "    </tr>\n",
       "    <tr>\n",
       "      <th>1</th>\n",
       "      <td>loc8123ed12ea8d</td>\n",
       "      <td>Aberfeldie</td>\n",
       "      <td>0.141229</td>\n",
       "    </tr>\n",
       "    <tr>\n",
       "      <th>2</th>\n",
       "      <td>loc0be4112ae167</td>\n",
       "      <td>Aintree</td>\n",
       "      <td>0.222535</td>\n",
       "    </tr>\n",
       "    <tr>\n",
       "      <th>3</th>\n",
       "      <td>locdeefa3afa7c5</td>\n",
       "      <td>Airport West</td>\n",
       "      <td>0.185012</td>\n",
       "    </tr>\n",
       "    <tr>\n",
       "      <th>4</th>\n",
       "      <td>locff0c231b0f12</td>\n",
       "      <td>Albanvale</td>\n",
       "      <td>0.132689</td>\n",
       "    </tr>\n",
       "  </tbody>\n",
       "</table>\n",
       "</div>"
      ],
      "text/plain": [
       "           LOC_PID      LOC_NAME  offence_count_scaled\n",
       "0  locb9872f35df41    Abbotsford              0.280808\n",
       "1  loc8123ed12ea8d    Aberfeldie              0.141229\n",
       "2  loc0be4112ae167       Aintree              0.222535\n",
       "3  locdeefa3afa7c5  Airport West              0.185012\n",
       "4  locff0c231b0f12     Albanvale              0.132689"
      ]
     },
     "execution_count": 4,
     "metadata": {},
     "output_type": "execute_result"
    }
   ],
   "source": [
    "suburb_crime = pd.read_csv(\"../data/raw/crime_completed.csv\", index_col=[0])\n",
    "suburb_crime.head()"
   ]
  },
  {
   "cell_type": "markdown",
   "metadata": {},
   "source": [
    "### 4.6 Generate Curated Property Dataset\n",
    "The detailed code is in the notebook [preprocess_property_2](./preprocess_property_2.ipynb)\n",
    "\n",
    "1. Merge suburb population\n",
    "2. Merge suburb scaled offence count\n",
    "3. Merge suburb median income\n",
    "\n",
    "Please **RUN ALL** code cells in the notebook [preprocess_property_2](./preprocess_property_2.ipynb), before run following cells."
   ]
  },
  {
   "cell_type": "code",
   "execution_count": 6,
   "metadata": {},
   "outputs": [
    {
     "data": {
      "text/html": [
       "<div>\n",
       "<style scoped>\n",
       "    .dataframe tbody tr th:only-of-type {\n",
       "        vertical-align: middle;\n",
       "    }\n",
       "\n",
       "    .dataframe tbody tr th {\n",
       "        vertical-align: top;\n",
       "    }\n",
       "\n",
       "    .dataframe thead th {\n",
       "        text-align: right;\n",
       "    }\n",
       "</style>\n",
       "<table border=\"1\" class=\"dataframe\">\n",
       "  <thead>\n",
       "    <tr style=\"text-align: right;\">\n",
       "      <th></th>\n",
       "      <th>type</th>\n",
       "      <th>cloest station</th>\n",
       "      <th>station_distance</th>\n",
       "      <th>cloest school</th>\n",
       "      <th>school_distance</th>\n",
       "      <th>CBD_distance</th>\n",
       "      <th>postcode</th>\n",
       "      <th>address</th>\n",
       "      <th>cost</th>\n",
       "      <th>beds</th>\n",
       "      <th>bath</th>\n",
       "      <th>parking</th>\n",
       "      <th>LOC_PID</th>\n",
       "      <th>LOC_NAME</th>\n",
       "      <th>suburb_population</th>\n",
       "      <th>density</th>\n",
       "      <th>offence_count_scaled</th>\n",
       "      <th>2022_income</th>\n",
       "    </tr>\n",
       "  </thead>\n",
       "  <tbody>\n",
       "    <tr>\n",
       "      <th>0</th>\n",
       "      <td>Apartment / Unit / Flat</td>\n",
       "      <td>30</td>\n",
       "      <td>1803.65</td>\n",
       "      <td>1374</td>\n",
       "      <td>667.06</td>\n",
       "      <td>1702.19</td>\n",
       "      <td>3000</td>\n",
       "      <td>1901/368 St Kilda Road Melbourne</td>\n",
       "      <td>1800.0</td>\n",
       "      <td>3</td>\n",
       "      <td>2</td>\n",
       "      <td>2</td>\n",
       "      <td>loc9901d119afda</td>\n",
       "      <td>Melbourne</td>\n",
       "      <td>64537.612413</td>\n",
       "      <td>9902.586904</td>\n",
       "      <td>0.637907</td>\n",
       "      <td>59707.937643</td>\n",
       "    </tr>\n",
       "    <tr>\n",
       "      <th>1</th>\n",
       "      <td>Apartment / Unit / Flat</td>\n",
       "      <td>176</td>\n",
       "      <td>371.68</td>\n",
       "      <td>2265</td>\n",
       "      <td>352.49</td>\n",
       "      <td>2267.13</td>\n",
       "      <td>3000</td>\n",
       "      <td>1211/200 Spencer Street Melbourne</td>\n",
       "      <td>480.0</td>\n",
       "      <td>1</td>\n",
       "      <td>1</td>\n",
       "      <td>1</td>\n",
       "      <td>loc9901d119afda</td>\n",
       "      <td>Melbourne</td>\n",
       "      <td>64537.612413</td>\n",
       "      <td>9902.586904</td>\n",
       "      <td>0.637907</td>\n",
       "      <td>59707.937643</td>\n",
       "    </tr>\n",
       "    <tr>\n",
       "      <th>2</th>\n",
       "      <td>Apartment / Unit / Flat</td>\n",
       "      <td>28</td>\n",
       "      <td>248.50</td>\n",
       "      <td>2189</td>\n",
       "      <td>401.73</td>\n",
       "      <td>1937.39</td>\n",
       "      <td>3000</td>\n",
       "      <td>1008/380 Little Lonsdale Street Melbourne</td>\n",
       "      <td>400.0</td>\n",
       "      <td>1</td>\n",
       "      <td>1</td>\n",
       "      <td>0</td>\n",
       "      <td>loc9901d119afda</td>\n",
       "      <td>Melbourne</td>\n",
       "      <td>64537.612413</td>\n",
       "      <td>9902.586904</td>\n",
       "      <td>0.637907</td>\n",
       "      <td>59707.937643</td>\n",
       "    </tr>\n",
       "    <tr>\n",
       "      <th>3</th>\n",
       "      <td>Apartment / Unit / Flat</td>\n",
       "      <td>140</td>\n",
       "      <td>404.26</td>\n",
       "      <td>2193</td>\n",
       "      <td>586.61</td>\n",
       "      <td>790.13</td>\n",
       "      <td>3000</td>\n",
       "      <td>3/27 Flinders Lane Melbourne</td>\n",
       "      <td>420.0</td>\n",
       "      <td>1</td>\n",
       "      <td>1</td>\n",
       "      <td>0</td>\n",
       "      <td>loc9901d119afda</td>\n",
       "      <td>Melbourne</td>\n",
       "      <td>64537.612413</td>\n",
       "      <td>9902.586904</td>\n",
       "      <td>0.637907</td>\n",
       "      <td>59707.937643</td>\n",
       "    </tr>\n",
       "    <tr>\n",
       "      <th>4</th>\n",
       "      <td>Apartment / Unit / Flat</td>\n",
       "      <td>28</td>\n",
       "      <td>525.08</td>\n",
       "      <td>2265</td>\n",
       "      <td>779.91</td>\n",
       "      <td>1657.95</td>\n",
       "      <td>3000</td>\n",
       "      <td>611/408 Lonsdale Street Melbourne</td>\n",
       "      <td>350.0</td>\n",
       "      <td>1</td>\n",
       "      <td>1</td>\n",
       "      <td>0</td>\n",
       "      <td>loc9901d119afda</td>\n",
       "      <td>Melbourne</td>\n",
       "      <td>64537.612413</td>\n",
       "      <td>9902.586904</td>\n",
       "      <td>0.637907</td>\n",
       "      <td>59707.937643</td>\n",
       "    </tr>\n",
       "  </tbody>\n",
       "</table>\n",
       "</div>"
      ],
      "text/plain": [
       "                      type  cloest station  station_distance  cloest school  \\\n",
       "0  Apartment / Unit / Flat              30           1803.65           1374   \n",
       "1  Apartment / Unit / Flat             176            371.68           2265   \n",
       "2  Apartment / Unit / Flat              28            248.50           2189   \n",
       "3  Apartment / Unit / Flat             140            404.26           2193   \n",
       "4  Apartment / Unit / Flat              28            525.08           2265   \n",
       "\n",
       "   school_distance  CBD_distance  postcode  \\\n",
       "0           667.06       1702.19      3000   \n",
       "1           352.49       2267.13      3000   \n",
       "2           401.73       1937.39      3000   \n",
       "3           586.61        790.13      3000   \n",
       "4           779.91       1657.95      3000   \n",
       "\n",
       "                                     address    cost  beds  bath  parking  \\\n",
       "0           1901/368 St Kilda Road Melbourne  1800.0     3     2        2   \n",
       "1          1211/200 Spencer Street Melbourne   480.0     1     1        1   \n",
       "2  1008/380 Little Lonsdale Street Melbourne   400.0     1     1        0   \n",
       "3               3/27 Flinders Lane Melbourne   420.0     1     1        0   \n",
       "4          611/408 Lonsdale Street Melbourne   350.0     1     1        0   \n",
       "\n",
       "           LOC_PID   LOC_NAME  suburb_population      density  \\\n",
       "0  loc9901d119afda  Melbourne       64537.612413  9902.586904   \n",
       "1  loc9901d119afda  Melbourne       64537.612413  9902.586904   \n",
       "2  loc9901d119afda  Melbourne       64537.612413  9902.586904   \n",
       "3  loc9901d119afda  Melbourne       64537.612413  9902.586904   \n",
       "4  loc9901d119afda  Melbourne       64537.612413  9902.586904   \n",
       "\n",
       "   offence_count_scaled   2022_income  \n",
       "0              0.637907  59707.937643  \n",
       "1              0.637907  59707.937643  \n",
       "2              0.637907  59707.937643  \n",
       "3              0.637907  59707.937643  \n",
       "4              0.637907  59707.937643  "
      ]
     },
     "execution_count": 6,
     "metadata": {},
     "output_type": "execute_result"
    }
   ],
   "source": [
    "property_curated = pd.read_csv(\"../data/curated/property_final.csv\", index_col=[0])\n",
    "property_curated.head()"
   ]
  },
  {
   "cell_type": "markdown",
   "metadata": {},
   "source": [
    "### 4.7 Generate Curated Suburb Dataset\n",
    "The detailed code is in the notebook [preprocess_suburb](./preprocess_suburb.ipynb)\n",
    "\n",
    "1. Find Average Rental Price of Suburbs\n",
    "2. Merge Population, Income\n",
    "3. Merge Number of Schools, Hospitals and Train Stations\n",
    "4. Generate Future Suburb Data.\n",
    "\n",
    "Please **RUN ALL** code cells in the notebook [preprocess_suburb](./preprocess_suburb.ipynb), before run following cells."
   ]
  },
  {
   "cell_type": "code",
   "execution_count": 12,
   "metadata": {},
   "outputs": [
    {
     "data": {
      "text/html": [
       "<div>\n",
       "<style scoped>\n",
       "    .dataframe tbody tr th:only-of-type {\n",
       "        vertical-align: middle;\n",
       "    }\n",
       "\n",
       "    .dataframe tbody tr th {\n",
       "        vertical-align: top;\n",
       "    }\n",
       "\n",
       "    .dataframe thead th {\n",
       "        text-align: right;\n",
       "    }\n",
       "</style>\n",
       "<table border=\"1\" class=\"dataframe\">\n",
       "  <thead>\n",
       "    <tr style=\"text-align: right;\">\n",
       "      <th></th>\n",
       "      <th>LOC_PID</th>\n",
       "      <th>LOC_NAME</th>\n",
       "      <th>rental_price</th>\n",
       "      <th>suburb_population</th>\n",
       "      <th>population_density</th>\n",
       "      <th>offence_count_scaled</th>\n",
       "      <th>income</th>\n",
       "      <th>num_stations</th>\n",
       "      <th>num_schools</th>\n",
       "      <th>num_hospitals</th>\n",
       "    </tr>\n",
       "  </thead>\n",
       "  <tbody>\n",
       "    <tr>\n",
       "      <th>0</th>\n",
       "      <td>loc0067a4549ed1</td>\n",
       "      <td>Korumburra</td>\n",
       "      <td>278.333333</td>\n",
       "      <td>4897.0</td>\n",
       "      <td>81.797573</td>\n",
       "      <td>0.165407</td>\n",
       "      <td>47097.371969</td>\n",
       "      <td>0.0</td>\n",
       "      <td>3.0</td>\n",
       "      <td>0.0</td>\n",
       "    </tr>\n",
       "    <tr>\n",
       "      <th>1</th>\n",
       "      <td>loc00a9769647d7</td>\n",
       "      <td>Kew</td>\n",
       "      <td>621.281250</td>\n",
       "      <td>26158.0</td>\n",
       "      <td>2486.279947</td>\n",
       "      <td>0.107577</td>\n",
       "      <td>71097.931084</td>\n",
       "      <td>0.0</td>\n",
       "      <td>11.0</td>\n",
       "      <td>6.0</td>\n",
       "    </tr>\n",
       "  </tbody>\n",
       "</table>\n",
       "</div>"
      ],
      "text/plain": [
       "           LOC_PID    LOC_NAME  rental_price  suburb_population  \\\n",
       "0  loc0067a4549ed1  Korumburra    278.333333             4897.0   \n",
       "1  loc00a9769647d7         Kew    621.281250            26158.0   \n",
       "\n",
       "   population_density  offence_count_scaled        income  num_stations  \\\n",
       "0           81.797573              0.165407  47097.371969           0.0   \n",
       "1         2486.279947              0.107577  71097.931084           0.0   \n",
       "\n",
       "   num_schools  num_hospitals  \n",
       "0          3.0            0.0  \n",
       "1         11.0            6.0  "
      ]
     },
     "execution_count": 12,
     "metadata": {},
     "output_type": "execute_result"
    }
   ],
   "source": [
    "# Current Suburb Data\n",
    "suburb_curated = pd.read_csv(\"../data/curated/suburb_final.csv\", index_col=[0])\n",
    "suburb_curated.head(2)"
   ]
  },
  {
   "cell_type": "markdown",
   "metadata": {},
   "source": [
    "--------\n",
    "## 5. Model for Property Feature Importance\n",
    "\n",
    "5.1 GLM Model (Property)\n",
    "\n",
    "5.2 Random Forest Regression (Property)"
   ]
  },
  {
   "cell_type": "markdown",
   "metadata": {},
   "source": [
    "### 5.1 GLM Model (Property)\n",
    "The detailed code is in the R-markdown [preprocess_suburb](./preprocess_suburb.ipynb)"
   ]
  },
  {
   "cell_type": "code",
   "execution_count": null,
   "metadata": {},
   "outputs": [],
   "source": []
  },
  {
   "cell_type": "markdown",
   "metadata": {},
   "source": [
    "### 5.2 Random Forest Regression (Property)\n",
    "\n",
    "##### What is Random Forest Regression\n",
    "The Random Forest Regression is an ensemble learning model that operates by constructing a multitude of decision trees at training time. For estimating, the mean or average prediction of the individual trees is returned. Random decision forests correct for decision trees' habit of overfitting to their training set.\n",
    "\n",
    "![random_forest_demo](../plots/RFR_demo.png)\n",
    "\n",
    "<br>\n",
    "\n",
    "The detailed code is in the notebook [random_forest](./random_forest.ipynb)\n",
    "\n",
    "1. Feature Selection and Preprocessing.\n",
    "2. Random Forest Modeling.\n",
    "3. Model evaluation.\n",
    "4. Importance of features\n",
    "\n",
    "Please **RUN ALL** code cells in the notebook [random_forest](./random_forest.ipynb), before run following cells."
   ]
  },
  {
   "cell_type": "markdown",
   "metadata": {},
   "source": [
    "##### The Random Forest Regression Model (RFR) Output\n",
    "The RFR provides the importance of features\n",
    "\n",
    "  ![RF_feature_importance](../plots/RF_feature_importance.jpeg)\n",
    "\n",
    "  red : internal features\n",
    "\n",
    "  blue : external features"
   ]
  },
  {
   "cell_type": "markdown",
   "metadata": {},
   "source": [
    "------------\n",
    "## 6.  Model for Suburb Future Rental Cost Estimation\n"
   ]
  },
  {
   "cell_type": "markdown",
   "metadata": {},
   "source": []
  }
 ],
 "metadata": {
  "kernelspec": {
   "display_name": "Python 3.8.3",
   "language": "python",
   "name": "python3"
  },
  "language_info": {
   "codemirror_mode": {
    "name": "ipython",
    "version": 3
   },
   "file_extension": ".py",
   "mimetype": "text/x-python",
   "name": "python",
   "nbconvert_exporter": "python",
   "pygments_lexer": "ipython3",
   "version": "3.8.3"
  },
  "orig_nbformat": 4,
  "vscode": {
   "interpreter": {
    "hash": "f1e7dfa4028ecbdedcddc863972528864aea52c12c7614bc4f4c47ec76e77350"
   }
  }
 },
 "nbformat": 4,
 "nbformat_minor": 2
}
