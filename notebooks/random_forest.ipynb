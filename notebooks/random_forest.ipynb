{
 "cells": [
  {
   "cell_type": "markdown",
   "id": "3f444374",
   "metadata": {},
   "source": [
    "# Properties Modeling - Random Forest\n",
    "\n",
    "1. Feature Selection and Preprocessing.\n",
    "2. Random Forest Modeling.\n",
    "3. Model evaluation.\n",
    "4. Importance of features"
   ]
  },
  {
   "cell_type": "code",
   "execution_count": 21,
   "id": "bcc71f55",
   "metadata": {},
   "outputs": [],
   "source": [
    "# Import packages\n",
    "import numpy as np\n",
    "import pandas as pd\n",
    "import matplotlib.pyplot as plt\n",
    "import warnings\n",
    "\n",
    "from sklearn.metrics import mean_absolute_error,  mean_squared_error,  r2_score\n",
    "warnings.filterwarnings(\"ignore\")"
   ]
  },
  {
   "cell_type": "markdown",
   "id": "5a05b13d",
   "metadata": {},
   "source": [
    "Read the data"
   ]
  },
  {
   "cell_type": "code",
   "execution_count": 22,
   "id": "8cd0edf5",
   "metadata": {},
   "outputs": [],
   "source": [
    "# Read data\n",
    "df  = pd.read_csv('../data/curated/property_final.csv')"
   ]
  },
  {
   "cell_type": "code",
   "execution_count": 23,
   "id": "4f17c1be",
   "metadata": {},
   "outputs": [],
   "source": [
    "data = df.drop(['address','LOC_NAME','LOC_PID','postcode','cloest station','cloest school'],axis=1)\n",
    "data = data.iloc[:,1:13]"
   ]
  },
  {
   "cell_type": "code",
   "execution_count": 24,
   "id": "7ee26a5b",
   "metadata": {},
   "outputs": [
    {
     "name": "stdout",
     "output_type": "stream",
     "text": [
      "<class 'pandas.core.frame.DataFrame'>\n",
      "RangeIndex: 14725 entries, 0 to 14724\n",
      "Data columns (total 12 columns):\n",
      " #   Column                Non-Null Count  Dtype  \n",
      "---  ------                --------------  -----  \n",
      " 0   type                  14725 non-null  object \n",
      " 1   station_distance      14725 non-null  float64\n",
      " 2   school_distance       14725 non-null  float64\n",
      " 3   CBD_distance          14725 non-null  float64\n",
      " 4   cost                  14725 non-null  float64\n",
      " 5   beds                  14725 non-null  int64  \n",
      " 6   bath                  14725 non-null  int64  \n",
      " 7   parking               14725 non-null  int64  \n",
      " 8   suburb_population     14725 non-null  float64\n",
      " 9   density               14725 non-null  float64\n",
      " 10  offence_count_scaled  14725 non-null  float64\n",
      " 11  2022_income           14725 non-null  float64\n",
      "dtypes: float64(8), int64(3), object(1)\n",
      "memory usage: 1.3+ MB\n"
     ]
    }
   ],
   "source": [
    "data.info()"
   ]
  },
  {
   "cell_type": "code",
   "execution_count": 25,
   "id": "5b626979",
   "metadata": {},
   "outputs": [
    {
     "data": {
      "text/html": [
       "<div>\n",
       "<style scoped>\n",
       "    .dataframe tbody tr th:only-of-type {\n",
       "        vertical-align: middle;\n",
       "    }\n",
       "\n",
       "    .dataframe tbody tr th {\n",
       "        vertical-align: top;\n",
       "    }\n",
       "\n",
       "    .dataframe thead th {\n",
       "        text-align: right;\n",
       "    }\n",
       "</style>\n",
       "<table border=\"1\" class=\"dataframe\">\n",
       "  <thead>\n",
       "    <tr style=\"text-align: right;\">\n",
       "      <th></th>\n",
       "      <th>station_distance</th>\n",
       "      <th>school_distance</th>\n",
       "      <th>CBD_distance</th>\n",
       "      <th>cost</th>\n",
       "      <th>beds</th>\n",
       "      <th>bath</th>\n",
       "      <th>parking</th>\n",
       "      <th>suburb_population</th>\n",
       "      <th>density</th>\n",
       "      <th>offence_count_scaled</th>\n",
       "      <th>2022_income</th>\n",
       "    </tr>\n",
       "  </thead>\n",
       "  <tbody>\n",
       "    <tr>\n",
       "      <th>count</th>\n",
       "      <td>14725.000000</td>\n",
       "      <td>14725.000000</td>\n",
       "      <td>14725.000000</td>\n",
       "      <td>14725.000000</td>\n",
       "      <td>14725.000000</td>\n",
       "      <td>14725.000000</td>\n",
       "      <td>14725.000000</td>\n",
       "      <td>14725.000000</td>\n",
       "      <td>14725.000000</td>\n",
       "      <td>14725.000000</td>\n",
       "      <td>14725.000000</td>\n",
       "    </tr>\n",
       "    <tr>\n",
       "      <th>mean</th>\n",
       "      <td>5327.451493</td>\n",
       "      <td>1050.079386</td>\n",
       "      <td>39685.520619</td>\n",
       "      <td>514.531702</td>\n",
       "      <td>2.592869</td>\n",
       "      <td>1.473752</td>\n",
       "      <td>1.343565</td>\n",
       "      <td>21491.270123</td>\n",
       "      <td>3498.964719</td>\n",
       "      <td>0.193150</td>\n",
       "      <td>59850.627625</td>\n",
       "    </tr>\n",
       "    <tr>\n",
       "      <th>std</th>\n",
       "      <td>21216.747908</td>\n",
       "      <td>1561.004634</td>\n",
       "      <td>66704.996074</td>\n",
       "      <td>273.818889</td>\n",
       "      <td>1.043871</td>\n",
       "      <td>0.607115</td>\n",
       "      <td>0.949589</td>\n",
       "      <td>15877.699271</td>\n",
       "      <td>3152.231668</td>\n",
       "      <td>0.145679</td>\n",
       "      <td>9832.025046</td>\n",
       "    </tr>\n",
       "    <tr>\n",
       "      <th>min</th>\n",
       "      <td>10.060000</td>\n",
       "      <td>0.000000</td>\n",
       "      <td>562.430000</td>\n",
       "      <td>1.000000</td>\n",
       "      <td>0.000000</td>\n",
       "      <td>0.000000</td>\n",
       "      <td>0.000000</td>\n",
       "      <td>305.083333</td>\n",
       "      <td>1.575472</td>\n",
       "      <td>0.000102</td>\n",
       "      <td>33492.142460</td>\n",
       "    </tr>\n",
       "    <tr>\n",
       "      <th>25%</th>\n",
       "      <td>845.930000</td>\n",
       "      <td>487.830000</td>\n",
       "      <td>7713.480000</td>\n",
       "      <td>385.000000</td>\n",
       "      <td>2.000000</td>\n",
       "      <td>1.000000</td>\n",
       "      <td>1.000000</td>\n",
       "      <td>10405.217391</td>\n",
       "      <td>1379.410527</td>\n",
       "      <td>0.099453</td>\n",
       "      <td>53761.161153</td>\n",
       "    </tr>\n",
       "    <tr>\n",
       "      <th>50%</th>\n",
       "      <td>1582.990000</td>\n",
       "      <td>754.570000</td>\n",
       "      <td>17006.350000</td>\n",
       "      <td>450.000000</td>\n",
       "      <td>3.000000</td>\n",
       "      <td>1.000000</td>\n",
       "      <td>1.000000</td>\n",
       "      <td>16887.163068</td>\n",
       "      <td>2728.087165</td>\n",
       "      <td>0.146133</td>\n",
       "      <td>59682.718266</td>\n",
       "    </tr>\n",
       "    <tr>\n",
       "      <th>75%</th>\n",
       "      <td>3133.870000</td>\n",
       "      <td>1135.560000</td>\n",
       "      <td>38126.760000</td>\n",
       "      <td>560.000000</td>\n",
       "      <td>3.000000</td>\n",
       "      <td>2.000000</td>\n",
       "      <td>2.000000</td>\n",
       "      <td>28312.440000</td>\n",
       "      <td>4335.181821</td>\n",
       "      <td>0.238650</td>\n",
       "      <td>66628.287834</td>\n",
       "    </tr>\n",
       "    <tr>\n",
       "      <th>max</th>\n",
       "      <td>250677.940000</td>\n",
       "      <td>48080.760000</td>\n",
       "      <td>547292.750000</td>\n",
       "      <td>5600.000000</td>\n",
       "      <td>9.000000</td>\n",
       "      <td>8.000000</td>\n",
       "      <td>9.000000</td>\n",
       "      <td>69437.181818</td>\n",
       "      <td>16912.733621</td>\n",
       "      <td>1.825052</td>\n",
       "      <td>84739.514398</td>\n",
       "    </tr>\n",
       "  </tbody>\n",
       "</table>\n",
       "</div>"
      ],
      "text/plain": [
       "       station_distance  school_distance   CBD_distance          cost  \\\n",
       "count      14725.000000     14725.000000   14725.000000  14725.000000   \n",
       "mean        5327.451493      1050.079386   39685.520619    514.531702   \n",
       "std        21216.747908      1561.004634   66704.996074    273.818889   \n",
       "min           10.060000         0.000000     562.430000      1.000000   \n",
       "25%          845.930000       487.830000    7713.480000    385.000000   \n",
       "50%         1582.990000       754.570000   17006.350000    450.000000   \n",
       "75%         3133.870000      1135.560000   38126.760000    560.000000   \n",
       "max       250677.940000     48080.760000  547292.750000   5600.000000   \n",
       "\n",
       "               beds          bath       parking  suburb_population  \\\n",
       "count  14725.000000  14725.000000  14725.000000       14725.000000   \n",
       "mean       2.592869      1.473752      1.343565       21491.270123   \n",
       "std        1.043871      0.607115      0.949589       15877.699271   \n",
       "min        0.000000      0.000000      0.000000         305.083333   \n",
       "25%        2.000000      1.000000      1.000000       10405.217391   \n",
       "50%        3.000000      1.000000      1.000000       16887.163068   \n",
       "75%        3.000000      2.000000      2.000000       28312.440000   \n",
       "max        9.000000      8.000000      9.000000       69437.181818   \n",
       "\n",
       "            density  offence_count_scaled   2022_income  \n",
       "count  14725.000000          14725.000000  14725.000000  \n",
       "mean    3498.964719              0.193150  59850.627625  \n",
       "std     3152.231668              0.145679   9832.025046  \n",
       "min        1.575472              0.000102  33492.142460  \n",
       "25%     1379.410527              0.099453  53761.161153  \n",
       "50%     2728.087165              0.146133  59682.718266  \n",
       "75%     4335.181821              0.238650  66628.287834  \n",
       "max    16912.733621              1.825052  84739.514398  "
      ]
     },
     "execution_count": 25,
     "metadata": {},
     "output_type": "execute_result"
    }
   ],
   "source": [
    "# Descriptive statistical analysis\n",
    "data.describe()"
   ]
  },
  {
   "cell_type": "markdown",
   "id": "68d1d289",
   "metadata": {},
   "source": [
    "Feature Preprocessing"
   ]
  },
  {
   "cell_type": "code",
   "execution_count": 26,
   "id": "94b87faf",
   "metadata": {},
   "outputs": [
    {
     "data": {
      "text/html": [
       "<div>\n",
       "<style scoped>\n",
       "    .dataframe tbody tr th:only-of-type {\n",
       "        vertical-align: middle;\n",
       "    }\n",
       "\n",
       "    .dataframe tbody tr th {\n",
       "        vertical-align: top;\n",
       "    }\n",
       "\n",
       "    .dataframe thead th {\n",
       "        text-align: right;\n",
       "    }\n",
       "</style>\n",
       "<table border=\"1\" class=\"dataframe\">\n",
       "  <thead>\n",
       "    <tr style=\"text-align: right;\">\n",
       "      <th></th>\n",
       "      <th>type</th>\n",
       "      <th>station_distance</th>\n",
       "      <th>school_distance</th>\n",
       "      <th>CBD_distance</th>\n",
       "      <th>cost</th>\n",
       "      <th>beds</th>\n",
       "      <th>bath</th>\n",
       "      <th>parking</th>\n",
       "      <th>suburb_population</th>\n",
       "      <th>density</th>\n",
       "      <th>...</th>\n",
       "      <th>type_House</th>\n",
       "      <th>type_New Apartments / Off the Plan</th>\n",
       "      <th>type_New House &amp; Land</th>\n",
       "      <th>type_Penthouse</th>\n",
       "      <th>type_Rural</th>\n",
       "      <th>type_Semi-Detached</th>\n",
       "      <th>type_Studio</th>\n",
       "      <th>type_Terrace</th>\n",
       "      <th>type_Townhouse</th>\n",
       "      <th>type_Villa</th>\n",
       "    </tr>\n",
       "  </thead>\n",
       "  <tbody>\n",
       "    <tr>\n",
       "      <th>0</th>\n",
       "      <td>Apartment / Unit / Flat</td>\n",
       "      <td>1803.65</td>\n",
       "      <td>667.06</td>\n",
       "      <td>1702.19</td>\n",
       "      <td>1800.0</td>\n",
       "      <td>3</td>\n",
       "      <td>2</td>\n",
       "      <td>2</td>\n",
       "      <td>64537.612413</td>\n",
       "      <td>9902.586904</td>\n",
       "      <td>...</td>\n",
       "      <td>0</td>\n",
       "      <td>0</td>\n",
       "      <td>0</td>\n",
       "      <td>0</td>\n",
       "      <td>0</td>\n",
       "      <td>0</td>\n",
       "      <td>0</td>\n",
       "      <td>0</td>\n",
       "      <td>0</td>\n",
       "      <td>0</td>\n",
       "    </tr>\n",
       "    <tr>\n",
       "      <th>1</th>\n",
       "      <td>Apartment / Unit / Flat</td>\n",
       "      <td>371.68</td>\n",
       "      <td>352.49</td>\n",
       "      <td>2267.13</td>\n",
       "      <td>480.0</td>\n",
       "      <td>1</td>\n",
       "      <td>1</td>\n",
       "      <td>1</td>\n",
       "      <td>64537.612413</td>\n",
       "      <td>9902.586904</td>\n",
       "      <td>...</td>\n",
       "      <td>0</td>\n",
       "      <td>0</td>\n",
       "      <td>0</td>\n",
       "      <td>0</td>\n",
       "      <td>0</td>\n",
       "      <td>0</td>\n",
       "      <td>0</td>\n",
       "      <td>0</td>\n",
       "      <td>0</td>\n",
       "      <td>0</td>\n",
       "    </tr>\n",
       "    <tr>\n",
       "      <th>2</th>\n",
       "      <td>Apartment / Unit / Flat</td>\n",
       "      <td>248.50</td>\n",
       "      <td>401.73</td>\n",
       "      <td>1937.39</td>\n",
       "      <td>400.0</td>\n",
       "      <td>1</td>\n",
       "      <td>1</td>\n",
       "      <td>0</td>\n",
       "      <td>64537.612413</td>\n",
       "      <td>9902.586904</td>\n",
       "      <td>...</td>\n",
       "      <td>0</td>\n",
       "      <td>0</td>\n",
       "      <td>0</td>\n",
       "      <td>0</td>\n",
       "      <td>0</td>\n",
       "      <td>0</td>\n",
       "      <td>0</td>\n",
       "      <td>0</td>\n",
       "      <td>0</td>\n",
       "      <td>0</td>\n",
       "    </tr>\n",
       "    <tr>\n",
       "      <th>3</th>\n",
       "      <td>Apartment / Unit / Flat</td>\n",
       "      <td>404.26</td>\n",
       "      <td>586.61</td>\n",
       "      <td>790.13</td>\n",
       "      <td>420.0</td>\n",
       "      <td>1</td>\n",
       "      <td>1</td>\n",
       "      <td>0</td>\n",
       "      <td>64537.612413</td>\n",
       "      <td>9902.586904</td>\n",
       "      <td>...</td>\n",
       "      <td>0</td>\n",
       "      <td>0</td>\n",
       "      <td>0</td>\n",
       "      <td>0</td>\n",
       "      <td>0</td>\n",
       "      <td>0</td>\n",
       "      <td>0</td>\n",
       "      <td>0</td>\n",
       "      <td>0</td>\n",
       "      <td>0</td>\n",
       "    </tr>\n",
       "    <tr>\n",
       "      <th>4</th>\n",
       "      <td>Apartment / Unit / Flat</td>\n",
       "      <td>525.08</td>\n",
       "      <td>779.91</td>\n",
       "      <td>1657.95</td>\n",
       "      <td>350.0</td>\n",
       "      <td>1</td>\n",
       "      <td>1</td>\n",
       "      <td>0</td>\n",
       "      <td>64537.612413</td>\n",
       "      <td>9902.586904</td>\n",
       "      <td>...</td>\n",
       "      <td>0</td>\n",
       "      <td>0</td>\n",
       "      <td>0</td>\n",
       "      <td>0</td>\n",
       "      <td>0</td>\n",
       "      <td>0</td>\n",
       "      <td>0</td>\n",
       "      <td>0</td>\n",
       "      <td>0</td>\n",
       "      <td>0</td>\n",
       "    </tr>\n",
       "  </tbody>\n",
       "</table>\n",
       "<p>5 rows × 26 columns</p>\n",
       "</div>"
      ],
      "text/plain": [
       "                      type  station_distance  school_distance  CBD_distance  \\\n",
       "0  Apartment / Unit / Flat           1803.65           667.06       1702.19   \n",
       "1  Apartment / Unit / Flat            371.68           352.49       2267.13   \n",
       "2  Apartment / Unit / Flat            248.50           401.73       1937.39   \n",
       "3  Apartment / Unit / Flat            404.26           586.61        790.13   \n",
       "4  Apartment / Unit / Flat            525.08           779.91       1657.95   \n",
       "\n",
       "     cost  beds  bath  parking  suburb_population      density  ...  \\\n",
       "0  1800.0     3     2        2       64537.612413  9902.586904  ...   \n",
       "1   480.0     1     1        1       64537.612413  9902.586904  ...   \n",
       "2   400.0     1     1        0       64537.612413  9902.586904  ...   \n",
       "3   420.0     1     1        0       64537.612413  9902.586904  ...   \n",
       "4   350.0     1     1        0       64537.612413  9902.586904  ...   \n",
       "\n",
       "   type_House  type_New Apartments / Off the Plan  type_New House & Land  \\\n",
       "0           0                                   0                      0   \n",
       "1           0                                   0                      0   \n",
       "2           0                                   0                      0   \n",
       "3           0                                   0                      0   \n",
       "4           0                                   0                      0   \n",
       "\n",
       "   type_Penthouse  type_Rural  type_Semi-Detached  type_Studio  type_Terrace  \\\n",
       "0               0           0                   0            0             0   \n",
       "1               0           0                   0            0             0   \n",
       "2               0           0                   0            0             0   \n",
       "3               0           0                   0            0             0   \n",
       "4               0           0                   0            0             0   \n",
       "\n",
       "   type_Townhouse  type_Villa  \n",
       "0               0           0  \n",
       "1               0           0  \n",
       "2               0           0  \n",
       "3               0           0  \n",
       "4               0           0  \n",
       "\n",
       "[5 rows x 26 columns]"
      ]
     },
     "execution_count": 26,
     "metadata": {},
     "output_type": "execute_result"
    }
   ],
   "source": [
    "# Data type conversion\n",
    "dummies_type =pd.get_dummies(data['type'],prefix='type')\n",
    "\n",
    "# Merge the original variable with the new transformed variable\n",
    "data_new =pd.concat([data, dummies_type],axis=1)\n",
    "data_new.head()"
   ]
  },
  {
   "cell_type": "code",
   "execution_count": 27,
   "id": "5f4c1660",
   "metadata": {},
   "outputs": [],
   "source": [
    "# Remove the original categorical variables\n",
    "data_new.drop(['type']  ,axis=1,inplace=True)"
   ]
  },
  {
   "cell_type": "markdown",
   "id": "58ceac96",
   "metadata": {},
   "source": [
    "Random forest modeling"
   ]
  },
  {
   "cell_type": "code",
   "execution_count": 28,
   "id": "226e8a91",
   "metadata": {},
   "outputs": [],
   "source": [
    "# The label selection\n",
    "x= data_new.drop(['cost'],axis=1)\n",
    "y= data_new['cost']\n",
    "\n",
    "# Partition of training set and test set\n",
    "from sklearn.model_selection import train_test_split\n",
    "x_train, x_test, y_train, y_test = train_test_split(x, y, test_size=0.2, random_state=0)   "
   ]
  },
  {
   "cell_type": "code",
   "execution_count": 29,
   "id": "45626134",
   "metadata": {},
   "outputs": [
    {
     "data": {
      "text/plain": [
       "(2945,)"
      ]
     },
     "execution_count": 29,
     "metadata": {},
     "output_type": "execute_result"
    }
   ],
   "source": [
    "y_test.shape   # Number of samples in the test set"
   ]
  },
  {
   "cell_type": "code",
   "execution_count": 30,
   "id": "0f04a456",
   "metadata": {},
   "outputs": [],
   "source": [
    "from sklearn.preprocessing import StandardScaler  \n",
    "ss = StandardScaler()\n",
    "x_train = ss.fit_transform(x_train)\n",
    "x_test = ss.transform(x_test)"
   ]
  },
  {
   "cell_type": "code",
   "execution_count": 31,
   "id": "2bc7b38b",
   "metadata": {},
   "outputs": [],
   "source": [
    "# Algorithm fit\n",
    "from sklearn.ensemble import   RandomForestRegressor\n",
    "rf_model = RandomForestRegressor(random_state=12345 )   # Random Forest algorithm\n",
    "\n",
    "# Fit the model and make predictions\n",
    "rf_model.fit(x_train, y_train)\n",
    "y_pred = rf_model.predict(x_test)\n",
    "y_pred1 = rf_model.predict(x_train)"
   ]
  },
  {
   "cell_type": "markdown",
   "id": "7e521911",
   "metadata": {},
   "source": [
    "Model Evaluation"
   ]
  },
  {
   "cell_type": "code",
   "execution_count": 32,
   "id": "e7baa990",
   "metadata": {},
   "outputs": [
    {
     "name": "stdout",
     "output_type": "stream",
     "text": [
      "train\n",
      "Mae:  32.48102774700692\n",
      "Mse:  5621.551930834056\n",
      "r2:  0.9282178068294156\n",
      "Mape:  8.24266%\n",
      "accuracy:  91.75734%\n",
      "test\n",
      "Mae:  78.12042678494458\n",
      "Mse:  25094.06142552693\n",
      "r2:  0.5925110565177731\n",
      "Mape:  15.35436%\n",
      "accuracy:  84.64564%\n"
     ]
    }
   ],
   "source": [
    "# Calculate metrics\n",
    "from sklearn.metrics import mean_absolute_error,  mean_squared_error,  r2_score\n",
    "# For the training set:\n",
    "print('train\\nMae: ', mean_absolute_error(y_train,y_pred1))\n",
    "print('Mse: ',       mean_squared_error(y_train,y_pred1))\n",
    "print('r2: ',       r2_score(y_train,y_pred1))\n",
    "Mape = np.mean(np.abs((y_pred1-y_train)/y_train))     \n",
    "print('Mape: ',\"%.5f%%\" % (Mape * 100))  \n",
    "print('accuracy: ',\"%.5f%%\" % ((1-Mape) * 100))  \n",
    "\n",
    "# Test set:\n",
    "print('test\\nMae: ', mean_absolute_error(y_test,y_pred))\n",
    "print('Mse: ',       mean_squared_error(y_test,y_pred))\n",
    "print('r2: ',        r2_score(y_test,y_pred))\n",
    "Mape = np.mean(np.abs((y_pred-y_test)/y_test))     \n",
    "print('Mape: ',\"%.5f%%\" % (Mape * 100))\n",
    "print('accuracy: ',\"%.5f%%\" % ((1-Mape) * 100))"
   ]
  },
  {
   "cell_type": "code",
   "execution_count": 33,
   "id": "c737924e",
   "metadata": {},
   "outputs": [
    {
     "data": {
      "image/png": "[encoded data removed]",
      "text/plain": [
       "<Figure size 1200x400 with 1 Axes>"
      ]
     },
     "metadata": {
      "needs_background": "light"
     },
     "output_type": "display_data"
    }
   ],
   "source": [
    "# Plot of deviation between predicted and actual values of the test data\n",
    "\n",
    "plt.figure(figsize=(15,5), dpi=80)   # Set the size and pixels of the drawing area\n",
    "plt.plot(range(2945),y_pred,color='r')\n",
    "plt.plot(range(2945),y_test,color='b')\n",
    "plt.title('forecast and actual of test_data')  # Add the title\n",
    "plt.savefig(\"../plots/RF_forecast_actual.jpeg\", bbox_inches='tight')\n",
    "plt.show()"
   ]
  },
  {
   "cell_type": "code",
   "execution_count": 34,
   "id": "76755579",
   "metadata": {},
   "outputs": [
    {
     "data": {
      "image/png": "[encoded data removed]",
      "text/plain": [
       "<Figure size 1152x360 with 1 Axes>"
      ]
     },
     "metadata": {
      "needs_background": "light"
     },
     "output_type": "display_data"
    }
   ],
   "source": [
    "# Mape diagram of the test data\n",
    "plt.figure(figsize=(16,5))  \n",
    "plt.plot(range(2945),np.abs((y_pred-y_test)/y_test) ,color='r',linestyle='-')\n",
    "plt.title('MAPE')\n",
    "plt.savefig(\"../plots/RF_MAPE.jpeg\", bbox_inches='tight')\n",
    "plt.show()"
   ]
  },
  {
   "cell_type": "markdown",
   "id": "593ef2ca",
   "metadata": {},
   "source": [
    "Importance of features"
   ]
  },
  {
   "cell_type": "code",
   "execution_count": 41,
   "id": "4d26ee75",
   "metadata": {
    "scrolled": true
   },
   "outputs": [
    {
     "data": {
      "image/png": "[encoded data removed]",
      "text/plain": [
       "<Figure size 1000x400 with 1 Axes>"
      ]
     },
     "metadata": {},
     "output_type": "display_data"
    }
   ],
   "source": [
    "# polt the features importance\n",
    "feature_names=x.columns\n",
    "features_importances = rf_model.feature_importances_\n",
    "features_importance_pairs = [(feature_name, features_importance) for feature_name, features_importance in\n",
    "                             zip(feature_names, features_importances)]\n",
    "features_importance_pairs\n",
    "\n",
    "# Sort the features inside\n",
    "features_importance_pairs = sorted(features_importance_pairs, key=lambda x: x[1], reverse=True)\n",
    "features_importance_pairs\n",
    "features_importance_name = [name[0] for name in features_importance_pairs]\n",
    "features_importance_val = [name[1] for name in features_importance_pairs]\n",
    "\n",
    "features_importance_name = features_importance_name[0:10]\n",
    "features_importance_val =  features_importance_val[0:10]\n",
    "\n",
    "# Set the bars for external factors to blue and for internal factors to red\n",
    "figure = plt.figure(figsize=(10,4),dpi=100)\n",
    "color_backup = [ 'gray','orange','gray','gray','orange','gray','gray','gray','gray','orange','orange','orange','orange','orange','orange']\n",
    "plt.bar(range(len(features_importance_name)), features_importance_val,color=color_backup )\n",
    "plt.xticks(range(len(features_importance_name)), features_importance_name)\n",
    "plt.xticks(rotation=90,color='gray',fontsize=9) # Set the scale direction\n",
    "\n",
    "plt.title('Features Importance')\n",
    "plt.savefig(\"../plots/RF_feature_importance.jpeg\", bbox_inches='tight')\n",
    "plt.show()"
   ]
  },
  {
   "cell_type": "code",
   "execution_count": null,
   "id": "a757feee",
   "metadata": {},
   "outputs": [],
   "source": []
  },
  {
   "cell_type": "code",
   "execution_count": null,
   "id": "c303ff26",
   "metadata": {},
   "outputs": [],
   "source": []
  }
 ],
 "metadata": {
  "kernelspec": {
   "display_name": "Python 3 (ipykernel)",
   "language": "python",
   "name": "python3"
  },
  "language_info": {
   "codemirror_mode": {
    "name": "ipython",
    "version": 3
   },
   "file_extension": ".py",
   "mimetype": "text/x-python",
   "name": "python",
   "nbconvert_exporter": "python",
   "pygments_lexer": "ipython3",
   "version": "3.9.12"
  },
  "vscode": {
   "interpreter": {
    "hash": "f1e7dfa4028ecbdedcddc863972528864aea52c12c7614bc4f4c47ec76e77350"
   }
  }
 },
 "nbformat": 4,
 "nbformat_minor": 5
}
