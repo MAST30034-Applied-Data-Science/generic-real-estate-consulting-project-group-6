{
 "cells": [
  {
   "cell_type": "markdown",
   "metadata": {},
   "source": [
    "---------\n",
    "# Find Property Distance to Train Station\n",
    "1. Find the closest station to every property in the coordinate system\n",
    "3. Use the ORS API to find the route distance between property and its closest station\n",
    "4. Store the data\n",
    "\n",
    "Assumptions :\n",
    "1. Assume that the closest satation in geographic coordinate system is the closest station in route distance\n",
    "    \n",
    "    This is because the API request is limitated, the algorithm to find the closest satation based on actual route distance seems not feasiable with more than 15 thousands property.\n",
    "\n",
    "Limitations:    \n",
    "1. Due to the assumptions, incrrect distance of some property that geographically close to station A, but actual route distance close to sation B is inevitable.\n",
    "    \n",
    "    However, this case some times happends for property that located in the middle of two stations. Therefore the error is acceptable."
   ]
  },
  {
   "cell_type": "markdown",
   "metadata": {},
   "source": [
    "#### Please your own ORS key"
   ]
  },
  {
   "cell_type": "code",
   "execution_count": null,
   "metadata": {},
   "outputs": [],
   "source": [
    "import pandas as pd\n",
    "import geopandas as gdp\n",
    "import re\n",
    "import openrouteservice as ors\n",
    "import folium\n",
    "import time\n",
    "client = ors.Client(key='your key')"
   ]
  },
  {
   "cell_type": "markdown",
   "metadata": {},
   "source": [
    "--------\n",
    "### Find the Geometrically Closest Station\n",
    "Load the data"
   ]
  },
  {
   "cell_type": "code",
   "execution_count": null,
   "metadata": {},
   "outputs": [],
   "source": [
    "train_station_gdp = gdp.read_file(\"../data/raw/train_station/ll_gda2020/esrishape/whole_of_dataset/victoria/TRANSPORT/VIC_RAILWAY_STATIONS.shp\")\n",
    "train_station_gdp"
   ]
  },
  {
   "cell_type": "markdown",
   "metadata": {},
   "source": [
    "Get the coordinate of train station from geometry Point"
   ]
  },
  {
   "cell_type": "code",
   "execution_count": null,
   "metadata": {},
   "outputs": [],
   "source": [
    "train_station_gdp['coord'] = [[train_station_gdp['geometry'].y[i], train_station_gdp['geometry'].x[i]] for i in range(0, len(train_station_gdp['geometry'].x))]"
   ]
  },
  {
   "cell_type": "markdown",
   "metadata": {},
   "source": [
    "A function to find the distance between two point based on the geographical coordinates"
   ]
  },
  {
   "cell_type": "code",
   "execution_count": null,
   "metadata": {},
   "outputs": [],
   "source": [
    "from geopy.distance import geodesic\n",
    "def distance(p1, p2):\n",
    "    return geodesic(tuple(p1), tuple(p2)).m"
   ]
  },
  {
   "cell_type": "markdown",
   "metadata": {},
   "source": [
    "Load property data"
   ]
  },
  {
   "cell_type": "code",
   "execution_count": null,
   "metadata": {},
   "outputs": [],
   "source": [
    "properties = pd.read_json(\"../data/raw/property_raw.json\")\n",
    "properties = properties.transpose()\n",
    "properties = properties.reset_index(drop=True)\n",
    "properties"
   ]
  },
  {
   "cell_type": "markdown",
   "metadata": {},
   "source": [
    "Find the gergraphically closest station for each property"
   ]
  },
  {
   "cell_type": "code",
   "execution_count": null,
   "metadata": {},
   "outputs": [],
   "source": [
    "from collections import defaultdict\n",
    "station_properties = defaultdict(list)\n",
    "cls_stations = []\n",
    "j = 0\n",
    "for coor in properties[\"coordinates\"]:\n",
    "    cls_station_id = -1\n",
    "    min_dist = 10000000000000000\n",
    "    i = 0\n",
    "    for station in train_station_gdp['coord']:\n",
    "        if distance(coor, station) <= min_dist:\n",
    "            min_dist = distance(coor, station)\n",
    "            cls_station_id = i\n",
    "        i += 1\n",
    "    cls_stations.append(cls_station_id)\n",
    "    station_properties[cls_station_id].append(j)\n",
    "    j += 1\n",
    "    \n",
    "    "
   ]
  },
  {
   "cell_type": "code",
   "execution_count": null,
   "metadata": {},
   "outputs": [],
   "source": [
    "properties[\"closest station\"] = pd.Series(data = cls_stations)\n",
    "properties"
   ]
  },
  {
   "cell_type": "markdown",
   "metadata": {},
   "source": [
    "---------\n",
    "### Use ORS to Find Route Distance\n",
    "Matrix Call\n",
    "\n",
    "Input a array of coordinates (station and its closest propertys).\n",
    "\n",
    "Return a matrix, contians all closest distance from propertys to the station."
   ]
  },
  {
   "cell_type": "code",
   "execution_count": null,
   "metadata": {},
   "outputs": [],
   "source": [
    "# This block of code finds out the distance of the properties to Cloest Station\n",
    "error_station = []\n",
    "result = {}\n",
    "for station in station_properties.keys():\n",
    "    station_coord = list(reversed(train_station_gdp.iloc[station]['coord']))\n",
    "    prop_coords = [list(reversed(properties.iloc[prop]['coordinates'])) for prop in station_properties[station]]\n",
    "    coordinates = [station_coord] + prop_coords\n",
    "    [[float(\"{:.7f}\".format(y))] for [x,y] in coordinates]\n",
    "    print(f\"Start station {station} request request size {len(coordinates)}\")\n",
    "    try:\n",
    "        matrix = client.distance_matrix(\n",
    "            locations=coordinates,\n",
    "            destinations = [0],\n",
    "            profile='foot-walking',\n",
    "            metrics=['distance'],\n",
    "            validate=False,\n",
    "        )\n",
    "    except:\n",
    "        error_station.append(station)\n",
    "    time.sleep(1.5)\n",
    "    print(f\"end {station}th request\")\n",
    "    curr = [dist[0] for dist in matrix['distances'][1:]]\n",
    "    result[station] = curr"
   ]
  },
  {
   "cell_type": "markdown",
   "metadata": {},
   "source": [
    "Due to the internet error, some API call may fail, so redo these fialed API calls"
   ]
  },
  {
   "cell_type": "code",
   "execution_count": null,
   "metadata": {},
   "outputs": [],
   "source": [
    "for station in error_station:\n",
    "    station_coord = list(reversed(train_station_gdp.iloc[station]['coord']))\n",
    "    prop_coords = [list(reversed(properties.iloc[prop]['coordinates'])) for prop in station_properties[station]]\n",
    "    coordinates = [station_coord] + prop_coords\n",
    "    [[float(\"{:.7f}\".format(y))] for [x,y] in coordinates]\n",
    "    print(f\"Start station {station} request request size {len(coordinates)}\")\n",
    "    try:\n",
    "        matrix = client.distance_matrix(\n",
    "            locations=coordinates,\n",
    "            destinations = [0],\n",
    "            profile='foot-walking',\n",
    "            metrics=['distance'],\n",
    "            validate=False,\n",
    "        )\n",
    "    except:\n",
    "        error_station.append(station)\n",
    "    time.sleep(1.5)\n",
    "    print(f\"end {station}th request\")\n",
    "    curr = [dist[0] for dist in matrix['distances'][1:]]\n",
    "    result[station] = curr"
   ]
  },
  {
   "cell_type": "markdown",
   "metadata": {},
   "source": [
    "---------\n",
    "### Store the data"
   ]
  },
  {
   "cell_type": "markdown",
   "metadata": {},
   "source": [
    "merge the distance and preoperty dataset"
   ]
  },
  {
   "cell_type": "code",
   "execution_count": null,
   "metadata": {},
   "outputs": [],
   "source": [
    "prop_dist = {}\n",
    "for station in result.keys():\n",
    "    props = station_properties[station]\n",
    "    dists = result[station]\n",
    "    for i in range(0, len(props)):\n",
    "        prop_dist[props[i]] = dists[i]"
   ]
  },
  {
   "cell_type": "code",
   "execution_count": null,
   "metadata": {},
   "outputs": [],
   "source": [
    "lenth = 0\n",
    "sum([len(x) for x in result.values()])"
   ]
  },
  {
   "cell_type": "code",
   "execution_count": null,
   "metadata": {},
   "outputs": [],
   "source": [
    "prop_dist_data = [prop_dist[i] for i in range(0, len(prop_dist))]"
   ]
  },
  {
   "cell_type": "code",
   "execution_count": null,
   "metadata": {},
   "outputs": [],
   "source": [
    "properties[\"proximity to train station\"] = pd.Series(data = prop_dist_data)"
   ]
  },
  {
   "cell_type": "code",
   "execution_count": null,
   "metadata": {},
   "outputs": [],
   "source": [
    "properties.to_csv(\"../data/raw/properties_train_proximity.csv\")"
   ]
  }
 ],
 "metadata": {
  "kernelspec": {
   "display_name": "Python 3.8.3",
   "language": "python",
   "name": "python3"
  },
  "language_info": {
   "codemirror_mode": {
    "name": "ipython",
    "version": 3
   },
   "file_extension": ".py",
   "mimetype": "text/x-python",
   "name": "python",
   "nbconvert_exporter": "python",
   "pygments_lexer": "ipython3",
   "version": "3.8.3"
  },
  "vscode": {
   "interpreter": {
    "hash": "f1e7dfa4028ecbdedcddc863972528864aea52c12c7614bc4f4c47ec76e77350"
   }
  }
 },
 "nbformat": 4,
 "nbformat_minor": 2
}
